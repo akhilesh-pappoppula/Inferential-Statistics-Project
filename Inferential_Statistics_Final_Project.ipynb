{
  "nbformat": 4,
  "nbformat_minor": 0,
  "metadata": {
    "colab": {
      "provenance": [],
      "toc_visible": true
    },
    "kernelspec": {
      "name": "python3",
      "display_name": "Python 3"
    },
    "language_info": {
      "name": "python"
    }
  },
  "cells": [
    {
      "cell_type": "markdown",
      "source": [
        "# **Problem 1**\n",
        "A physiotherapist with a male football team is interested in studying the relationship between foot injuries and the positions at which the players play from the data collected."
      ],
      "metadata": {
        "id": "QK8gQ3jzsIlO"
      }
    },
    {
      "cell_type": "markdown",
      "source": [
        "## 1.1 What is the probability that a randomly chosen player would suffer an injury?"
      ],
      "metadata": {
        "id": "413gYWpMrB6v"
      }
    },
    {
      "cell_type": "code",
      "source": [
        "Total_No_of_players = 235\n",
        "Total_No_of_Injured_players = 145\n",
        "Probability_of_Injury = Total_No_of_Injured_players/Total_No_of_players\n",
        "print('The Probability that a randomly choosen player would suffer an Injury is:', round(Probability_of_Injury,3))"
      ],
      "metadata": {
        "colab": {
          "base_uri": "https://localhost:8080/"
        },
        "id": "11QOj3rnrITC",
        "outputId": "737521dd-5bfb-44f8-b008-6a3482254316"
      },
      "execution_count": 97,
      "outputs": [
        {
          "output_type": "stream",
          "name": "stdout",
          "text": [
            "The Probability that a randomly choosen player would suffer an Injury is: 0.617\n"
          ]
        }
      ]
    },
    {
      "cell_type": "markdown",
      "source": [
        "Therefore, the probability that a randomly chosen player will suffer an injury is approximately 61.7%."
      ],
      "metadata": {
        "id": "ZkGpysxhvh8Q"
      }
    },
    {
      "cell_type": "markdown",
      "source": [
        "## 1.2 What is the probability that a player is a forward or a winger?"
      ],
      "metadata": {
        "id": "IO-WVG97wCb5"
      }
    },
    {
      "cell_type": "code",
      "source": [
        "Total_No_of_players = 235\n",
        "number_of_forwards = 94\n",
        "number_of_wingers = 29\n",
        "Total_number_of_forwards_and_wingers = number_of_forwards + number_of_wingers\n",
        "Probability_of_forward_or_winger = Total_number_of_forwards_and_wingers/Total_No_of_players\n",
        "print('The Probability that a player is a forward or a winger is:', round(Probability_of_forward_or_winger,3))"
      ],
      "metadata": {
        "colab": {
          "base_uri": "https://localhost:8080/"
        },
        "id": "Xz33cYvstvWE",
        "outputId": "4d27b469-a69a-4227-c470-1e84abc331f5"
      },
      "execution_count": 98,
      "outputs": [
        {
          "output_type": "stream",
          "name": "stdout",
          "text": [
            "The Probability that a player is a forward or a winger is: 0.523\n"
          ]
        }
      ]
    },
    {
      "cell_type": "markdown",
      "source": [
        "Therefore, the probability that a player is either a forward or a winger is approximately 52.3%."
      ],
      "metadata": {
        "id": "zZCS-hyXOu9i"
      }
    },
    {
      "cell_type": "markdown",
      "source": [
        "## 1.3 What is the probability that a randomly chosen player plays in a striker position and has a foot injury?"
      ],
      "metadata": {
        "id": "qb7aZ4AZPHLl"
      }
    },
    {
      "cell_type": "code",
      "source": [
        "Total_No_of_players = 235\n",
        "Total_No_of_Injured_strikers = 45\n",
        "Probability_of_striker_and_injury = Total_No_of_Injured_strikers/Total_No_of_players\n",
        "print('The Probability that a randomly chosen player plays in a striker position and has a foot injury is:', round(Probability_of_striker_and_injury,3))"
      ],
      "metadata": {
        "colab": {
          "base_uri": "https://localhost:8080/"
        },
        "id": "qubMLKe5OsBI",
        "outputId": "03ce7ba6-7708-4772-c315-5d7fc55bbabc"
      },
      "execution_count": 99,
      "outputs": [
        {
          "output_type": "stream",
          "name": "stdout",
          "text": [
            "The Probability that a randomly chosen player plays in a striker position and has a foot injury is: 0.191\n"
          ]
        }
      ]
    },
    {
      "cell_type": "markdown",
      "source": [
        "Therefore, the probability that a randomly chosen player in the striker\n",
        "position has a foot injury is approximately 19.1%."
      ],
      "metadata": {
        "id": "jYc3P1yZQ34i"
      }
    },
    {
      "cell_type": "markdown",
      "source": [
        "## 1.4 What is the probability that a randomly chosen injured player is a striker?\n",
        "\n"
      ],
      "metadata": {
        "id": "SHiE9VqTRf1H"
      }
    },
    {
      "cell_type": "code",
      "source": [
        "Total_No_of_Injured_players = 145\n",
        "Total_No_of_Injured_strikers = 45\n",
        "Probability = Total_No_of_Injured_strikers/Total_No_of_Injured_players\n",
        "print('The Probability that a randomly chosen injured player is a striker is:', round(Probability,3))\n"
      ],
      "metadata": {
        "colab": {
          "base_uri": "https://localhost:8080/"
        },
        "id": "67DDp9qCQ1uO",
        "outputId": "4e3ce2ec-025b-473b-e7e2-ed6512f17309"
      },
      "execution_count": 100,
      "outputs": [
        {
          "output_type": "stream",
          "name": "stdout",
          "text": [
            "The Probability that a randomly chosen injured player is a striker is: 0.31\n"
          ]
        }
      ]
    },
    {
      "cell_type": "markdown",
      "source": [
        "Therefore, the probability that a randomly chosen injured player is a striker is 31%."
      ],
      "metadata": {
        "id": "-td20rXpTThT"
      }
    },
    {
      "cell_type": "markdown",
      "source": [
        "# **Problem 2**\n",
        "\n",
        "The breaking strength of gunny bags used for packaging cement is normally distributed with a mean of 5 kg per sq. centimeter and a standard deviation of 1.5 kg per sq. centimeter. The quality team of the cement company wants to know the following about the packaging material to better understand wastage or pilferage within the supply chain; Answer the questions below based on the given information;"
      ],
      "metadata": {
        "id": "XIkeFBdMbK0j"
      }
    },
    {
      "cell_type": "markdown",
      "source": [
        "## 2.1 What proportion of the gunny bags have a breaking strength of less than 3.17 kg per sq cm?"
      ],
      "metadata": {
        "id": "FijNXCo6cDEO"
      }
    },
    {
      "cell_type": "code",
      "source": [
        "# Libraries to help with reading and manipulating data\n",
        "import numpy as np\n",
        "import pandas as pd\n",
        "\n",
        "# Libraries to help with data visualization\n",
        "import matplotlib.pyplot as plt\n",
        "import seaborn as sns\n",
        "%matplotlib inline\n",
        "\n",
        "# Library to help with statistical analysis\n",
        "import scipy.stats as stats\n",
        "from scipy.stats import norm"
      ],
      "metadata": {
        "id": "lx7Pf2pHynTP"
      },
      "execution_count": 101,
      "outputs": []
    },
    {
      "cell_type": "code",
      "source": [
        "# given data\n",
        "\n",
        "mu = 5 #kg per sq cm, mean breaking strength.\n",
        "sigma = 1.5 # kg per sq cm, std dev of breaking strength.\n",
        "x = 3.17 # kg per sq cm, value for which we need to find proportion.\n",
        "\n",
        "# caluclating the z score\n",
        "z = (x-mu)/sigma\n",
        "\n",
        "# caluclating proportion using the cummulative distribution function (CDF)\n",
        "proportion1 = stats.norm.cdf(z).round(4)\n",
        "\n",
        "print('The proportion of the gunny bags have a breaking strength of less than 3.17 kg per sq cm is:', proportion1)"
      ],
      "metadata": {
        "colab": {
          "base_uri": "https://localhost:8080/"
        },
        "id": "MpbqwldPyJuK",
        "outputId": "5685b613-80bf-4a07-e896-f67bd0b6c853"
      },
      "execution_count": 102,
      "outputs": [
        {
          "output_type": "stream",
          "name": "stdout",
          "text": [
            "The proportion of the gunny bags have a breaking strength of less than 3.17 kg per sq cm is: 0.1112\n"
          ]
        }
      ]
    },
    {
      "cell_type": "code",
      "source": [
        "# creating a Visual representation\n",
        "x_value = np.linspace(mu - 4*sigma, mu + 4*sigma, 100)\n",
        "y_value = norm.pdf(x_value, mu, sigma)\n",
        "\n",
        "# Plot the normal distribution\n",
        "plt.figure(figsize=(10, 6))\n",
        "plt.plot(x_value, y_value, label='Normal Distribution', color = 'green')\n",
        "\n",
        "# Fill the area less than x value\n",
        "plt.fill_between(x_value, y_value, where=(x_value <= x), color='orange', alpha=1, label= f'Area = {proportion1*100}')\n",
        "\n",
        "# plot vertical line at x_value\n",
        "plt.axvline(x = x, color= 'red', linestyle = '--', label=f'x = {x}')\n",
        "\n",
        "# labels & title\n",
        "plt.title('Normal distribution of breaking strength less than 3.17kg per sqcm')\n",
        "plt.xlabel('Breaking Strength (kg/cm²)')\n",
        "plt.ylabel('Probability Density')\n",
        "plt.legend()\n",
        "plt.show()"
      ],
      "metadata": {
        "colab": {
          "base_uri": "https://localhost:8080/",
          "height": 564
        },
        "id": "9R9H-O0c6e1g",
        "outputId": "e9de9b6b-6143-46d2-c997-42f4b3fabdbe"
      },
      "execution_count": 103,
      "outputs": [
        {
          "output_type": "display_data",
          "data": {
            "text/plain": [
              "<Figure size 1000x600 with 1 Axes>"
            ],
            "image/png": "[encoded data removed]"
          },
          "metadata": {}
        }
      ]
    },
    {
      "cell_type": "markdown",
      "source": [
        "Approximately 11.2% of gunny bags have a breaking strength of less than 3.17 kg per square centimeter."
      ],
      "metadata": {
        "id": "laMThLNVnYzH"
      }
    },
    {
      "cell_type": "markdown",
      "source": [
        "## 2.2 What proportion of the gunny bags have a breaking strength of at least 3.6 kg per sq cm.?"
      ],
      "metadata": {
        "id": "G25MhKHBiH6X"
      }
    },
    {
      "cell_type": "code",
      "source": [
        "# given data\n",
        "\n",
        "mu = 5 #kg per sq cm, mean breaking strength.\n",
        "sigma = 1.5 # kg per sq cm, std dev of breaking strength.\n",
        "x = 3.6 # kg per sq cm, value for which we need to find proportion.\n",
        "\n",
        "# caluclating the z score\n",
        "z = (x-mu)/sigma\n",
        "\n",
        "# caluclating proportion using the cummulative distribution function (CDF)\n",
        "proportion2 = stats.norm.cdf(z).round(4)\n",
        "\n",
        "print('The proportion of the gunny bags have a breaking strength of at least 3.6 kg per sq cm is:', proportion2)"
      ],
      "metadata": {
        "colab": {
          "base_uri": "https://localhost:8080/"
        },
        "id": "GB45IrW6ix_J",
        "outputId": "327719b3-d57e-46a8-b55e-1a9838b14435"
      },
      "execution_count": 104,
      "outputs": [
        {
          "output_type": "stream",
          "name": "stdout",
          "text": [
            "The proportion of the gunny bags have a breaking strength of at least 3.6 kg per sq cm is: 0.1753\n"
          ]
        }
      ]
    },
    {
      "cell_type": "code",
      "source": [
        "# creating a Visual representation\n",
        "x_value = np.linspace(mu - 4*sigma, mu + 4*sigma, 100)\n",
        "y_value = norm.pdf(x_value, mu, sigma)\n",
        "\n",
        "# Plot the normal distribution\n",
        "plt.figure(figsize=(10, 6))\n",
        "plt.plot(x_value, y_value, label='Normal Distribution', color = 'green')\n",
        "\n",
        "# Fill the area greater than or equal to x value\n",
        "plt.fill_between(x_value, y_value, where=(x_value >= x), color='orange', alpha=1, label= f'Area = {proportion2*100}')\n",
        "\n",
        "# plot vertical line at x_value\n",
        "plt.axvline(x = x, color= 'red', linestyle = '--', label=f'x = {x}')\n",
        "\n",
        "# labels & title\n",
        "plt.title('Normal distribution of breaking strength at least 3.6kg per sqcm')\n",
        "plt.xlabel('Breaking Strength (kg/cm²)')\n",
        "plt.ylabel('Probability Density')\n",
        "plt.legend()\n",
        "plt.show()"
      ],
      "metadata": {
        "colab": {
          "base_uri": "https://localhost:8080/",
          "height": 564
        },
        "id": "k8BoJLS7jEvV",
        "outputId": "5eff5133-64ce-4f7f-d6c1-1617a56304cf"
      },
      "execution_count": 105,
      "outputs": [
        {
          "output_type": "display_data",
          "data": {
            "text/plain": [
              "<Figure size 1000x600 with 1 Axes>"
            ],
            "image/png": "[encoded data removed]"
          },
          "metadata": {}
        }
      ]
    },
    {
      "cell_type": "markdown",
      "source": [
        "Approximately 17.53% of gunny bags have a breaking strength of at least 3.6 kg\n",
        "per sq cm."
      ],
      "metadata": {
        "id": "kAM3BU7YnhQR"
      }
    },
    {
      "cell_type": "markdown",
      "source": [
        "## 2.3 What proportion of the gunny bags have a breaking strength between 5 and 5.5 kg per sq cm.?"
      ],
      "metadata": {
        "id": "bzqRFgxAkABI"
      }
    },
    {
      "cell_type": "code",
      "source": [
        "# given data\n",
        "\n",
        "mu = 5 #kg per sq cm, mean breaking strength.\n",
        "sigma = 1.5 # kg per sq cm, std dev of breaking strength.\n",
        "x1 = 5 # kg per sq cm\n",
        "x2 = 5.5 # kg per sq cm\n",
        "\n",
        "#caluclate z score\n",
        "z1 = (x1-mu)/sigma\n",
        "z2 = (x2-mu)/sigma\n",
        "\n",
        "# caluclating proportion using the cummulative distribution function (CDF)\n",
        "proportion3 = (stats.norm.cdf(z2) - stats.norm.cdf(z1)).round(4)\n",
        "\n",
        "print('The proportion of the gunny bags have a breaking strength between 5 and 5.5 kg per sq cm is:', proportion3)"
      ],
      "metadata": {
        "colab": {
          "base_uri": "https://localhost:8080/"
        },
        "id": "8pphbkqnkV6y",
        "outputId": "e9033134-a6f2-49d1-ddbe-380ab937ca65"
      },
      "execution_count": 106,
      "outputs": [
        {
          "output_type": "stream",
          "name": "stdout",
          "text": [
            "The proportion of the gunny bags have a breaking strength between 5 and 5.5 kg per sq cm is: 0.1306\n"
          ]
        }
      ]
    },
    {
      "cell_type": "code",
      "source": [
        "# creating visual representation\n",
        "x_value = np.linspace(mu - 4*sigma, mu + 4*sigma, 100)\n",
        "y_value = norm.pdf(x_value, mu, sigma)\n",
        "\n",
        "# plot the normal distribution\n",
        "plt.figure(figsize=(10, 6))\n",
        "plt.plot(x_value, y_value, label ='Normal Distribution', color ='green')\n",
        "\n",
        "# fill are between x1 and x2\n",
        "plt.fill_between(x_value, y_value, where=(x_value >= x1) & (x_value <= x2), color='orange', alpha=1, label=f'Area = {13.06}')\n",
        "\n",
        "# plot vertical lines at x1 and x2\n",
        "plt.axvline(x=x1, color='red', linestyle='--', label=f'x1 = {x1}')\n",
        "plt.axvline(x=x2, color='blue', linestyle='--', label=f'x2 = {x2}')\n",
        "\n",
        "# labels & title\n",
        "plt.title('Normal distribution of breaking strength between 5 and 5.5kg per sqcm')\n",
        "plt.xlabel('Breaking Strength (kg/cm²)')\n",
        "plt.ylabel('Probability Density')\n",
        "plt.legend()\n",
        "plt.show()"
      ],
      "metadata": {
        "colab": {
          "base_uri": "https://localhost:8080/",
          "height": 564
        },
        "id": "QqRh8iOjpH4K",
        "outputId": "8638b681-e08f-4b56-85b6-c3c7e41ddf7d"
      },
      "execution_count": 107,
      "outputs": [
        {
          "output_type": "display_data",
          "data": {
            "text/plain": [
              "<Figure size 1000x600 with 1 Axes>"
            ],
            "image/png": "[encoded data removed]"
          },
          "metadata": {}
        }
      ]
    },
    {
      "cell_type": "markdown",
      "source": [
        "Approximately 13.06% of gunny bags have a breaking strength between 5 and 5.5 kg per sq cm."
      ],
      "metadata": {
        "id": "QjlA--5er-f3"
      }
    },
    {
      "cell_type": "markdown",
      "source": [
        "## 2.4 What proportion of the gunny bags have a breaking strength NOT between 3 and 7.5 kg per sq cm.?\n",
        "\n"
      ],
      "metadata": {
        "id": "pr9Nd57Os4OT"
      }
    },
    {
      "cell_type": "code",
      "source": [
        "# given data\n",
        "mu = 5  # kg per sq cm, mean breaking strength.\n",
        "sigma = 1.5  # kg per sq cm, std dev of breaking strength.\n",
        "x1 = 3  # kg per sq cm\n",
        "x2 = 7.5  # kg per sq cm\n",
        "\n",
        "# calculate z-scores\n",
        "z1 = (x1 - mu) / sigma\n",
        "z2 = (x2 - mu) / sigma\n",
        "\n",
        "# calculate proportions using the cumulative distribution function (CDF)\n",
        "proportion_not_between = 1- (stats.norm.cdf(z2) - stats.norm.cdf(z1)).round(4)\n",
        "\n",
        "print(\"The proportion of gunny bags with breaking strength NOT between 3 and 7.5 kg per sq cm is:\",proportion_not_between,)"
      ],
      "metadata": {
        "colab": {
          "base_uri": "https://localhost:8080/"
        },
        "id": "6bD3j5D2t1yn",
        "outputId": "794f1a45-c8dd-4869-9f9a-c5dce78eeda2"
      },
      "execution_count": 108,
      "outputs": [
        {
          "output_type": "stream",
          "name": "stdout",
          "text": [
            "The proportion of gunny bags with breaking strength NOT between 3 and 7.5 kg per sq cm is: 0.139\n"
          ]
        }
      ]
    },
    {
      "cell_type": "code",
      "source": [
        "#creating visualization\n",
        "x_value = np.linspace(mu - 4 * sigma, mu + 4 * sigma, 100)\n",
        "y_value = norm.pdf(x_value, mu, sigma)\n",
        "\n",
        "# plot the normal distribution\n",
        "plt.figure(figsize=(10, 6))\n",
        "plt.plot(x_value, y_value, label=\"Normal Distribution\", color=\"green\")\n",
        "\n",
        "# Fill area outside x1 and x2\n",
        "plt.fill_between(x_value, y_value, where=(x_value < x1)|(x_value > x2), color=\"orange\", alpha=1, label=f\"Area = 13.9\")\n",
        "\n",
        "# plot vertical lines at x1 and x2\n",
        "plt.axvline(x=x1, color=\"red\", linestyle=\"--\", label=f\"x1 = {x1}\")\n",
        "plt.axvline(x=x2, color=\"blue\", linestyle=\"--\", label=f\"x2 = {x2}\")\n",
        "\n",
        "# labels & title\n",
        "plt.title(\"Normal distribution of breaking strength NOT between 3 and 7.5 kg per sq cm\")\n",
        "plt.xlabel(\"Breaking Strength (kg/cm²)\")\n",
        "plt.ylabel(\"Probability Density\")\n",
        "plt.legend()\n",
        "plt.show()"
      ],
      "metadata": {
        "colab": {
          "base_uri": "https://localhost:8080/",
          "height": 564
        },
        "id": "K6yNKPiBu2uC",
        "outputId": "49a1a4b8-8fa3-4732-e6e0-f16102fcd13e"
      },
      "execution_count": 109,
      "outputs": [
        {
          "output_type": "display_data",
          "data": {
            "text/plain": [
              "<Figure size 1000x600 with 1 Axes>"
            ],
            "image/png": "[encoded data removed]"
          },
          "metadata": {}
        }
      ]
    },
    {
      "cell_type": "markdown",
      "source": [
        "Approximately 13.9% of gunny bags have a breaking strength that is not between 3 and 7.5 kg per sq cm."
      ],
      "metadata": {
        "id": "g1QVRmQ1wWrf"
      }
    },
    {
      "cell_type": "markdown",
      "source": [
        "# **Problem 3**\n",
        "Zingaro stone printing is a company that specializes in printing images or patterns on polished or unpolished stones. However, for the optimum level of printing of the image, the stone surface has to have a Brinell's hardness index of at least 150. Recently, Zingaro has received a batch of polished and unpolished stones from its clients. Use the data provided to answer the following (assuming a 5% significance level);"
      ],
      "metadata": {
        "id": "GXgHkM-Ny0n4"
      }
    },
    {
      "cell_type": "markdown",
      "source": [
        "## Loading the Data set"
      ],
      "metadata": {
        "id": "sUF-936l2h6W"
      }
    },
    {
      "cell_type": "code",
      "source": [
        "# Reading the data set\n",
        "data = pd.read_csv('/content/drive/MyDrive/PGP-DS/2. IS/PROJECT/Zingaro_Company.csv')"
      ],
      "metadata": {
        "id": "MwMXnhm7zeGb"
      },
      "execution_count": 110,
      "outputs": []
    },
    {
      "cell_type": "code",
      "source": [
        "# copying data to another variable to avoid any changes to original data\n",
        "df = data.copy()"
      ],
      "metadata": {
        "id": "EJ0E4p5B1YOD"
      },
      "execution_count": 111,
      "outputs": []
    },
    {
      "cell_type": "markdown",
      "source": [
        "## Overview of the Data set"
      ],
      "metadata": {
        "id": "7-4wTt4B2mmU"
      }
    },
    {
      "cell_type": "code",
      "source": [
        "df.head()"
      ],
      "metadata": {
        "colab": {
          "base_uri": "https://localhost:8080/",
          "height": 206
        },
        "id": "jZMHjEN_1eOl",
        "outputId": "5f72cefa-cad2-45ef-f5df-018aa6010d8b"
      },
      "execution_count": 112,
      "outputs": [
        {
          "output_type": "execute_result",
          "data": {
            "text/plain": [
              "   Unpolished   Treated and Polished\n",
              "0   164.481713            133.209393\n",
              "1   154.307045            138.482771\n",
              "2   129.861048            159.665201\n",
              "3   159.096184            145.663528\n",
              "4   135.256748            136.789227"
            ],
            "text/html": [
              "\n",
              "  <div id=\"df-0b2fccc4-b423-49a4-a567-ad1b6f153d73\" class=\"colab-df-container\">\n",
              "    <div>\n",
              "<style scoped>\n",
              "    .dataframe tbody tr th:only-of-type {\n",
              "        vertical-align: middle;\n",
              "    }\n",
              "\n",
              "    .dataframe tbody tr th {\n",
              "        vertical-align: top;\n",
              "    }\n",
              "\n",
              "    .dataframe thead th {\n",
              "        text-align: right;\n",
              "    }\n",
              "</style>\n",
              "<table border=\"1\" class=\"dataframe\">\n",
              "  <thead>\n",
              "    <tr style=\"text-align: right;\">\n",
              "      <th></th>\n",
              "      <th>Unpolished</th>\n",
              "      <th>Treated and Polished</th>\n",
              "    </tr>\n",
              "  </thead>\n",
              "  <tbody>\n",
              "    <tr>\n",
              "      <th>0</th>\n",
              "      <td>164.481713</td>\n",
              "      <td>133.209393</td>\n",
              "    </tr>\n",
              "    <tr>\n",
              "      <th>1</th>\n",
              "      <td>154.307045</td>\n",
              "      <td>138.482771</td>\n",
              "    </tr>\n",
              "    <tr>\n",
              "      <th>2</th>\n",
              "      <td>129.861048</td>\n",
              "      <td>159.665201</td>\n",
              "    </tr>\n",
              "    <tr>\n",
              "      <th>3</th>\n",
              "      <td>159.096184</td>\n",
              "      <td>145.663528</td>\n",
              "    </tr>\n",
              "    <tr>\n",
              "      <th>4</th>\n",
              "      <td>135.256748</td>\n",
              "      <td>136.789227</td>\n",
              "    </tr>\n",
              "  </tbody>\n",
              "</table>\n",
              "</div>\n",
              "    <div class=\"colab-df-buttons\">\n",
              "\n",
              "  <div class=\"colab-df-container\">\n",
              "    <button class=\"colab-df-convert\" onclick=\"convertToInteractive('df-0b2fccc4-b423-49a4-a567-ad1b6f153d73')\"\n",
              "            title=\"Convert this dataframe to an interactive table.\"\n",
              "            style=\"display:none;\">\n",
              "\n",
              "  <svg xmlns=\"http://www.w3.org/2000/svg\" height=\"24px\" viewBox=\"0 -960 960 960\">\n",
              "    <path d=\"M120-120v-720h720v720H120Zm60-500h600v-160H180v160Zm220 220h160v-160H400v160Zm0 220h160v-160H400v160ZM180-400h160v-160H180v160Zm440 0h160v-160H620v160ZM180-180h160v-160H180v160Zm440 0h160v-160H620v160Z\"/>\n",
              "  </svg>\n",
              "    </button>\n",
              "\n",
              "  <style>\n",
              "    .colab-df-container {\n",
              "      display:flex;\n",
              "      gap: 12px;\n",
              "    }\n",
              "\n",
              "    .colab-df-convert {\n",
              "      background-color: #E8F0FE;\n",
              "      border: none;\n",
              "      border-radius: 50%;\n",
              "      cursor: pointer;\n",
              "      display: none;\n",
              "      fill: #1967D2;\n",
              "      height: 32px;\n",
              "      padding: 0 0 0 0;\n",
              "      width: 32px;\n",
              "    }\n",
              "\n",
              "    .colab-df-convert:hover {\n",
              "      background-color: #E2EBFA;\n",
              "      box-shadow: 0px 1px 2px rgba(60, 64, 67, 0.3), 0px 1px 3px 1px rgba(60, 64, 67, 0.15);\n",
              "      fill: #174EA6;\n",
              "    }\n",
              "\n",
              "    .colab-df-buttons div {\n",
              "      margin-bottom: 4px;\n",
              "    }\n",
              "\n",
              "    [theme=dark] .colab-df-convert {\n",
              "      background-color: #3B4455;\n",
              "      fill: #D2E3FC;\n",
              "    }\n",
              "\n",
              "    [theme=dark] .colab-df-convert:hover {\n",
              "      background-color: #434B5C;\n",
              "      box-shadow: 0px 1px 3px 1px rgba(0, 0, 0, 0.15);\n",
              "      filter: drop-shadow(0px 1px 2px rgba(0, 0, 0, 0.3));\n",
              "      fill: #FFFFFF;\n",
              "    }\n",
              "  </style>\n",
              "\n",
              "    <script>\n",
              "      const buttonEl =\n",
              "        document.querySelector('#df-0b2fccc4-b423-49a4-a567-ad1b6f153d73 button.colab-df-convert');\n",
              "      buttonEl.style.display =\n",
              "        google.colab.kernel.accessAllowed ? 'block' : 'none';\n",
              "\n",
              "      async function convertToInteractive(key) {\n",
              "        const element = document.querySelector('#df-0b2fccc4-b423-49a4-a567-ad1b6f153d73');\n",
              "        const dataTable =\n",
              "          await google.colab.kernel.invokeFunction('convertToInteractive',\n",
              "                                                    [key], {});\n",
              "        if (!dataTable) return;\n",
              "\n",
              "        const docLinkHtml = 'Like what you see? Visit the ' +\n",
              "          '<a target=\"_blank\" href=https://colab.research.google.com/notebooks/data_table.ipynb>data table notebook</a>'\n",
              "          + ' to learn more about interactive tables.';\n",
              "        element.innerHTML = '';\n",
              "        dataTable['output_type'] = 'display_data';\n",
              "        await google.colab.output.renderOutput(dataTable, element);\n",
              "        const docLink = document.createElement('div');\n",
              "        docLink.innerHTML = docLinkHtml;\n",
              "        element.appendChild(docLink);\n",
              "      }\n",
              "    </script>\n",
              "  </div>\n",
              "\n",
              "\n",
              "    <div id=\"df-321620b1-3fa1-4acb-adf4-20732375231f\">\n",
              "      <button class=\"colab-df-quickchart\" onclick=\"quickchart('df-321620b1-3fa1-4acb-adf4-20732375231f')\"\n",
              "                title=\"Suggest charts\"\n",
              "                style=\"display:none;\">\n",
              "\n",
              "<svg xmlns=\"http://www.w3.org/2000/svg\" height=\"24px\"viewBox=\"0 0 24 24\"\n",
              "     width=\"24px\">\n",
              "    <g>\n",
              "        <path d=\"M19 3H5c-1.1 0-2 .9-2 2v14c0 1.1.9 2 2 2h14c1.1 0 2-.9 2-2V5c0-1.1-.9-2-2-2zM9 17H7v-7h2v7zm4 0h-2V7h2v10zm4 0h-2v-4h2v4z\"/>\n",
              "    </g>\n",
              "</svg>\n",
              "      </button>\n",
              "\n",
              "<style>\n",
              "  .colab-df-quickchart {\n",
              "      --bg-color: #E8F0FE;\n",
              "      --fill-color: #1967D2;\n",
              "      --hover-bg-color: #E2EBFA;\n",
              "      --hover-fill-color: #174EA6;\n",
              "      --disabled-fill-color: #AAA;\n",
              "      --disabled-bg-color: #DDD;\n",
              "  }\n",
              "\n",
              "  [theme=dark] .colab-df-quickchart {\n",
              "      --bg-color: #3B4455;\n",
              "      --fill-color: #D2E3FC;\n",
              "      --hover-bg-color: #434B5C;\n",
              "      --hover-fill-color: #FFFFFF;\n",
              "      --disabled-bg-color: #3B4455;\n",
              "      --disabled-fill-color: #666;\n",
              "  }\n",
              "\n",
              "  .colab-df-quickchart {\n",
              "    background-color: var(--bg-color);\n",
              "    border: none;\n",
              "    border-radius: 50%;\n",
              "    cursor: pointer;\n",
              "    display: none;\n",
              "    fill: var(--fill-color);\n",
              "    height: 32px;\n",
              "    padding: 0;\n",
              "    width: 32px;\n",
              "  }\n",
              "\n",
              "  .colab-df-quickchart:hover {\n",
              "    background-color: var(--hover-bg-color);\n",
              "    box-shadow: 0 1px 2px rgba(60, 64, 67, 0.3), 0 1px 3px 1px rgba(60, 64, 67, 0.15);\n",
              "    fill: var(--button-hover-fill-color);\n",
              "  }\n",
              "\n",
              "  .colab-df-quickchart-complete:disabled,\n",
              "  .colab-df-quickchart-complete:disabled:hover {\n",
              "    background-color: var(--disabled-bg-color);\n",
              "    fill: var(--disabled-fill-color);\n",
              "    box-shadow: none;\n",
              "  }\n",
              "\n",
              "  .colab-df-spinner {\n",
              "    border: 2px solid var(--fill-color);\n",
              "    border-color: transparent;\n",
              "    border-bottom-color: var(--fill-color);\n",
              "    animation:\n",
              "      spin 1s steps(1) infinite;\n",
              "  }\n",
              "\n",
              "  @keyframes spin {\n",
              "    0% {\n",
              "      border-color: transparent;\n",
              "      border-bottom-color: var(--fill-color);\n",
              "      border-left-color: var(--fill-color);\n",
              "    }\n",
              "    20% {\n",
              "      border-color: transparent;\n",
              "      border-left-color: var(--fill-color);\n",
              "      border-top-color: var(--fill-color);\n",
              "    }\n",
              "    30% {\n",
              "      border-color: transparent;\n",
              "      border-left-color: var(--fill-color);\n",
              "      border-top-color: var(--fill-color);\n",
              "      border-right-color: var(--fill-color);\n",
              "    }\n",
              "    40% {\n",
              "      border-color: transparent;\n",
              "      border-right-color: var(--fill-color);\n",
              "      border-top-color: var(--fill-color);\n",
              "    }\n",
              "    60% {\n",
              "      border-color: transparent;\n",
              "      border-right-color: var(--fill-color);\n",
              "    }\n",
              "    80% {\n",
              "      border-color: transparent;\n",
              "      border-right-color: var(--fill-color);\n",
              "      border-bottom-color: var(--fill-color);\n",
              "    }\n",
              "    90% {\n",
              "      border-color: transparent;\n",
              "      border-bottom-color: var(--fill-color);\n",
              "    }\n",
              "  }\n",
              "</style>\n",
              "\n",
              "      <script>\n",
              "        async function quickchart(key) {\n",
              "          const quickchartButtonEl =\n",
              "            document.querySelector('#' + key + ' button');\n",
              "          quickchartButtonEl.disabled = true;  // To prevent multiple clicks.\n",
              "          quickchartButtonEl.classList.add('colab-df-spinner');\n",
              "          try {\n",
              "            const charts = await google.colab.kernel.invokeFunction(\n",
              "                'suggestCharts', [key], {});\n",
              "          } catch (error) {\n",
              "            console.error('Error during call to suggestCharts:', error);\n",
              "          }\n",
              "          quickchartButtonEl.classList.remove('colab-df-spinner');\n",
              "          quickchartButtonEl.classList.add('colab-df-quickchart-complete');\n",
              "        }\n",
              "        (() => {\n",
              "          let quickchartButtonEl =\n",
              "            document.querySelector('#df-321620b1-3fa1-4acb-adf4-20732375231f button');\n",
              "          quickchartButtonEl.style.display =\n",
              "            google.colab.kernel.accessAllowed ? 'block' : 'none';\n",
              "        })();\n",
              "      </script>\n",
              "    </div>\n",
              "\n",
              "    </div>\n",
              "  </div>\n"
            ],
            "application/vnd.google.colaboratory.intrinsic+json": {
              "type": "dataframe",
              "variable_name": "df",
              "summary": "{\n  \"name\": \"df\",\n  \"rows\": 75,\n  \"fields\": [\n    {\n      \"column\": \"Unpolished \",\n      \"properties\": {\n        \"dtype\": \"number\",\n        \"std\": 33.0418044136061,\n        \"min\": 48.40683839,\n        \"max\": 200.1613125,\n        \"num_unique_values\": 75,\n        \"samples\": [\n          135.2567483,\n          121.4075252,\n          95.34903009\n        ],\n        \"semantic_type\": \"\",\n        \"description\": \"\"\n      }\n    },\n    {\n      \"column\": \"Treated and Polished\",\n      \"properties\": {\n        \"dtype\": \"number\",\n        \"std\": 15.587355273119856,\n        \"min\": 107.5241671,\n        \"max\": 192.2728563,\n        \"num_unique_values\": 75,\n        \"samples\": [\n          136.7892272,\n          107.5241671,\n          145.8285257\n        ],\n        \"semantic_type\": \"\",\n        \"description\": \"\"\n      }\n    }\n  ]\n}"
            }
          },
          "metadata": {},
          "execution_count": 112
        }
      ]
    },
    {
      "cell_type": "markdown",
      "source": [
        "* *The data presented above consists of two columns: one for unpolished stones and another for treated and polished stones.*"
      ],
      "metadata": {
        "id": "U1eTMo5S3RAL"
      }
    },
    {
      "cell_type": "markdown",
      "source": [
        "## Checking shape of the data set"
      ],
      "metadata": {
        "id": "eweH-N_D3m1v"
      }
    },
    {
      "cell_type": "code",
      "source": [
        "df.shape\n",
        "print('The shape of the data set is:', df.shape)"
      ],
      "metadata": {
        "colab": {
          "base_uri": "https://localhost:8080/"
        },
        "id": "sifQJYkX3B-B",
        "outputId": "1309272b-c64f-494d-dd5a-d7e751715f2e"
      },
      "execution_count": 113,
      "outputs": [
        {
          "output_type": "stream",
          "name": "stdout",
          "text": [
            "The shape of the data set is: (75, 2)\n"
          ]
        }
      ]
    },
    {
      "cell_type": "markdown",
      "source": [
        "* *The data set contains 75 rows and 2 columns.*"
      ],
      "metadata": {
        "id": "TPkGXGKi3vcf"
      }
    },
    {
      "cell_type": "markdown",
      "source": [
        "## Checking the data types of columns for data set"
      ],
      "metadata": {
        "id": "R2TIZR7j4JzO"
      }
    },
    {
      "cell_type": "code",
      "source": [
        "df.info()"
      ],
      "metadata": {
        "colab": {
          "base_uri": "https://localhost:8080/"
        },
        "id": "WerK2MB94WHh",
        "outputId": "64d1e185-e314-491e-8123-25f6cbeb2d06"
      },
      "execution_count": 114,
      "outputs": [
        {
          "output_type": "stream",
          "name": "stdout",
          "text": [
            "<class 'pandas.core.frame.DataFrame'>\n",
            "RangeIndex: 75 entries, 0 to 74\n",
            "Data columns (total 2 columns):\n",
            " #   Column                Non-Null Count  Dtype  \n",
            "---  ------                --------------  -----  \n",
            " 0   Unpolished            75 non-null     float64\n",
            " 1   Treated and Polished  75 non-null     float64\n",
            "dtypes: float64(2)\n",
            "memory usage: 1.3 KB\n"
          ]
        }
      ]
    },
    {
      "cell_type": "markdown",
      "source": [
        "* *Both columns do not contain any null values.*"
      ],
      "metadata": {
        "id": "0uA7Y1SkjUvf"
      }
    },
    {
      "cell_type": "markdown",
      "source": [
        "## Statistical summary of the data"
      ],
      "metadata": {
        "id": "SDlJwCea37-Y"
      }
    },
    {
      "cell_type": "code",
      "source": [
        "df.describe()"
      ],
      "metadata": {
        "colab": {
          "base_uri": "https://localhost:8080/",
          "height": 300
        },
        "id": "x2BgRS-o3rwh",
        "outputId": "6296adf2-cd0f-4b13-ebed-cde0605e73f1"
      },
      "execution_count": 115,
      "outputs": [
        {
          "output_type": "execute_result",
          "data": {
            "text/plain": [
              "       Unpolished   Treated and Polished\n",
              "count    75.000000             75.000000\n",
              "mean    134.110527            147.788117\n",
              "std      33.041804             15.587355\n",
              "min      48.406838            107.524167\n",
              "25%     115.329753            138.268300\n",
              "50%     135.597121            145.721322\n",
              "75%     158.215098            157.373318\n",
              "max     200.161313            192.272856"
            ],
            "text/html": [
              "\n",
              "  <div id=\"df-9b43af37-6a22-4c17-8dda-15c6c3197117\" class=\"colab-df-container\">\n",
              "    <div>\n",
              "<style scoped>\n",
              "    .dataframe tbody tr th:only-of-type {\n",
              "        vertical-align: middle;\n",
              "    }\n",
              "\n",
              "    .dataframe tbody tr th {\n",
              "        vertical-align: top;\n",
              "    }\n",
              "\n",
              "    .dataframe thead th {\n",
              "        text-align: right;\n",
              "    }\n",
              "</style>\n",
              "<table border=\"1\" class=\"dataframe\">\n",
              "  <thead>\n",
              "    <tr style=\"text-align: right;\">\n",
              "      <th></th>\n",
              "      <th>Unpolished</th>\n",
              "      <th>Treated and Polished</th>\n",
              "    </tr>\n",
              "  </thead>\n",
              "  <tbody>\n",
              "    <tr>\n",
              "      <th>count</th>\n",
              "      <td>75.000000</td>\n",
              "      <td>75.000000</td>\n",
              "    </tr>\n",
              "    <tr>\n",
              "      <th>mean</th>\n",
              "      <td>134.110527</td>\n",
              "      <td>147.788117</td>\n",
              "    </tr>\n",
              "    <tr>\n",
              "      <th>std</th>\n",
              "      <td>33.041804</td>\n",
              "      <td>15.587355</td>\n",
              "    </tr>\n",
              "    <tr>\n",
              "      <th>min</th>\n",
              "      <td>48.406838</td>\n",
              "      <td>107.524167</td>\n",
              "    </tr>\n",
              "    <tr>\n",
              "      <th>25%</th>\n",
              "      <td>115.329753</td>\n",
              "      <td>138.268300</td>\n",
              "    </tr>\n",
              "    <tr>\n",
              "      <th>50%</th>\n",
              "      <td>135.597121</td>\n",
              "      <td>145.721322</td>\n",
              "    </tr>\n",
              "    <tr>\n",
              "      <th>75%</th>\n",
              "      <td>158.215098</td>\n",
              "      <td>157.373318</td>\n",
              "    </tr>\n",
              "    <tr>\n",
              "      <th>max</th>\n",
              "      <td>200.161313</td>\n",
              "      <td>192.272856</td>\n",
              "    </tr>\n",
              "  </tbody>\n",
              "</table>\n",
              "</div>\n",
              "    <div class=\"colab-df-buttons\">\n",
              "\n",
              "  <div class=\"colab-df-container\">\n",
              "    <button class=\"colab-df-convert\" onclick=\"convertToInteractive('df-9b43af37-6a22-4c17-8dda-15c6c3197117')\"\n",
              "            title=\"Convert this dataframe to an interactive table.\"\n",
              "            style=\"display:none;\">\n",
              "\n",
              "  <svg xmlns=\"http://www.w3.org/2000/svg\" height=\"24px\" viewBox=\"0 -960 960 960\">\n",
              "    <path d=\"M120-120v-720h720v720H120Zm60-500h600v-160H180v160Zm220 220h160v-160H400v160Zm0 220h160v-160H400v160ZM180-400h160v-160H180v160Zm440 0h160v-160H620v160ZM180-180h160v-160H180v160Zm440 0h160v-160H620v160Z\"/>\n",
              "  </svg>\n",
              "    </button>\n",
              "\n",
              "  <style>\n",
              "    .colab-df-container {\n",
              "      display:flex;\n",
              "      gap: 12px;\n",
              "    }\n",
              "\n",
              "    .colab-df-convert {\n",
              "      background-color: #E8F0FE;\n",
              "      border: none;\n",
              "      border-radius: 50%;\n",
              "      cursor: pointer;\n",
              "      display: none;\n",
              "      fill: #1967D2;\n",
              "      height: 32px;\n",
              "      padding: 0 0 0 0;\n",
              "      width: 32px;\n",
              "    }\n",
              "\n",
              "    .colab-df-convert:hover {\n",
              "      background-color: #E2EBFA;\n",
              "      box-shadow: 0px 1px 2px rgba(60, 64, 67, 0.3), 0px 1px 3px 1px rgba(60, 64, 67, 0.15);\n",
              "      fill: #174EA6;\n",
              "    }\n",
              "\n",
              "    .colab-df-buttons div {\n",
              "      margin-bottom: 4px;\n",
              "    }\n",
              "\n",
              "    [theme=dark] .colab-df-convert {\n",
              "      background-color: #3B4455;\n",
              "      fill: #D2E3FC;\n",
              "    }\n",
              "\n",
              "    [theme=dark] .colab-df-convert:hover {\n",
              "      background-color: #434B5C;\n",
              "      box-shadow: 0px 1px 3px 1px rgba(0, 0, 0, 0.15);\n",
              "      filter: drop-shadow(0px 1px 2px rgba(0, 0, 0, 0.3));\n",
              "      fill: #FFFFFF;\n",
              "    }\n",
              "  </style>\n",
              "\n",
              "    <script>\n",
              "      const buttonEl =\n",
              "        document.querySelector('#df-9b43af37-6a22-4c17-8dda-15c6c3197117 button.colab-df-convert');\n",
              "      buttonEl.style.display =\n",
              "        google.colab.kernel.accessAllowed ? 'block' : 'none';\n",
              "\n",
              "      async function convertToInteractive(key) {\n",
              "        const element = document.querySelector('#df-9b43af37-6a22-4c17-8dda-15c6c3197117');\n",
              "        const dataTable =\n",
              "          await google.colab.kernel.invokeFunction('convertToInteractive',\n",
              "                                                    [key], {});\n",
              "        if (!dataTable) return;\n",
              "\n",
              "        const docLinkHtml = 'Like what you see? Visit the ' +\n",
              "          '<a target=\"_blank\" href=https://colab.research.google.com/notebooks/data_table.ipynb>data table notebook</a>'\n",
              "          + ' to learn more about interactive tables.';\n",
              "        element.innerHTML = '';\n",
              "        dataTable['output_type'] = 'display_data';\n",
              "        await google.colab.output.renderOutput(dataTable, element);\n",
              "        const docLink = document.createElement('div');\n",
              "        docLink.innerHTML = docLinkHtml;\n",
              "        element.appendChild(docLink);\n",
              "      }\n",
              "    </script>\n",
              "  </div>\n",
              "\n",
              "\n",
              "    <div id=\"df-06b37c7f-b090-4c21-afb4-68cc19b62532\">\n",
              "      <button class=\"colab-df-quickchart\" onclick=\"quickchart('df-06b37c7f-b090-4c21-afb4-68cc19b62532')\"\n",
              "                title=\"Suggest charts\"\n",
              "                style=\"display:none;\">\n",
              "\n",
              "<svg xmlns=\"http://www.w3.org/2000/svg\" height=\"24px\"viewBox=\"0 0 24 24\"\n",
              "     width=\"24px\">\n",
              "    <g>\n",
              "        <path d=\"M19 3H5c-1.1 0-2 .9-2 2v14c0 1.1.9 2 2 2h14c1.1 0 2-.9 2-2V5c0-1.1-.9-2-2-2zM9 17H7v-7h2v7zm4 0h-2V7h2v10zm4 0h-2v-4h2v4z\"/>\n",
              "    </g>\n",
              "</svg>\n",
              "      </button>\n",
              "\n",
              "<style>\n",
              "  .colab-df-quickchart {\n",
              "      --bg-color: #E8F0FE;\n",
              "      --fill-color: #1967D2;\n",
              "      --hover-bg-color: #E2EBFA;\n",
              "      --hover-fill-color: #174EA6;\n",
              "      --disabled-fill-color: #AAA;\n",
              "      --disabled-bg-color: #DDD;\n",
              "  }\n",
              "\n",
              "  [theme=dark] .colab-df-quickchart {\n",
              "      --bg-color: #3B4455;\n",
              "      --fill-color: #D2E3FC;\n",
              "      --hover-bg-color: #434B5C;\n",
              "      --hover-fill-color: #FFFFFF;\n",
              "      --disabled-bg-color: #3B4455;\n",
              "      --disabled-fill-color: #666;\n",
              "  }\n",
              "\n",
              "  .colab-df-quickchart {\n",
              "    background-color: var(--bg-color);\n",
              "    border: none;\n",
              "    border-radius: 50%;\n",
              "    cursor: pointer;\n",
              "    display: none;\n",
              "    fill: var(--fill-color);\n",
              "    height: 32px;\n",
              "    padding: 0;\n",
              "    width: 32px;\n",
              "  }\n",
              "\n",
              "  .colab-df-quickchart:hover {\n",
              "    background-color: var(--hover-bg-color);\n",
              "    box-shadow: 0 1px 2px rgba(60, 64, 67, 0.3), 0 1px 3px 1px rgba(60, 64, 67, 0.15);\n",
              "    fill: var(--button-hover-fill-color);\n",
              "  }\n",
              "\n",
              "  .colab-df-quickchart-complete:disabled,\n",
              "  .colab-df-quickchart-complete:disabled:hover {\n",
              "    background-color: var(--disabled-bg-color);\n",
              "    fill: var(--disabled-fill-color);\n",
              "    box-shadow: none;\n",
              "  }\n",
              "\n",
              "  .colab-df-spinner {\n",
              "    border: 2px solid var(--fill-color);\n",
              "    border-color: transparent;\n",
              "    border-bottom-color: var(--fill-color);\n",
              "    animation:\n",
              "      spin 1s steps(1) infinite;\n",
              "  }\n",
              "\n",
              "  @keyframes spin {\n",
              "    0% {\n",
              "      border-color: transparent;\n",
              "      border-bottom-color: var(--fill-color);\n",
              "      border-left-color: var(--fill-color);\n",
              "    }\n",
              "    20% {\n",
              "      border-color: transparent;\n",
              "      border-left-color: var(--fill-color);\n",
              "      border-top-color: var(--fill-color);\n",
              "    }\n",
              "    30% {\n",
              "      border-color: transparent;\n",
              "      border-left-color: var(--fill-color);\n",
              "      border-top-color: var(--fill-color);\n",
              "      border-right-color: var(--fill-color);\n",
              "    }\n",
              "    40% {\n",
              "      border-color: transparent;\n",
              "      border-right-color: var(--fill-color);\n",
              "      border-top-color: var(--fill-color);\n",
              "    }\n",
              "    60% {\n",
              "      border-color: transparent;\n",
              "      border-right-color: var(--fill-color);\n",
              "    }\n",
              "    80% {\n",
              "      border-color: transparent;\n",
              "      border-right-color: var(--fill-color);\n",
              "      border-bottom-color: var(--fill-color);\n",
              "    }\n",
              "    90% {\n",
              "      border-color: transparent;\n",
              "      border-bottom-color: var(--fill-color);\n",
              "    }\n",
              "  }\n",
              "</style>\n",
              "\n",
              "      <script>\n",
              "        async function quickchart(key) {\n",
              "          const quickchartButtonEl =\n",
              "            document.querySelector('#' + key + ' button');\n",
              "          quickchartButtonEl.disabled = true;  // To prevent multiple clicks.\n",
              "          quickchartButtonEl.classList.add('colab-df-spinner');\n",
              "          try {\n",
              "            const charts = await google.colab.kernel.invokeFunction(\n",
              "                'suggestCharts', [key], {});\n",
              "          } catch (error) {\n",
              "            console.error('Error during call to suggestCharts:', error);\n",
              "          }\n",
              "          quickchartButtonEl.classList.remove('colab-df-spinner');\n",
              "          quickchartButtonEl.classList.add('colab-df-quickchart-complete');\n",
              "        }\n",
              "        (() => {\n",
              "          let quickchartButtonEl =\n",
              "            document.querySelector('#df-06b37c7f-b090-4c21-afb4-68cc19b62532 button');\n",
              "          quickchartButtonEl.style.display =\n",
              "            google.colab.kernel.accessAllowed ? 'block' : 'none';\n",
              "        })();\n",
              "      </script>\n",
              "    </div>\n",
              "\n",
              "    </div>\n",
              "  </div>\n"
            ],
            "application/vnd.google.colaboratory.intrinsic+json": {
              "type": "dataframe",
              "summary": "{\n  \"name\": \"df\",\n  \"rows\": 8,\n  \"fields\": [\n    {\n      \"column\": \"Unpolished \",\n      \"properties\": {\n        \"dtype\": \"number\",\n        \"std\": 56.83391983477774,\n        \"min\": 33.0418044136061,\n        \"max\": 200.1613125,\n        \"num_unique_values\": 8,\n        \"samples\": [\n          134.11052653373332,\n          135.5971212,\n          75.0\n        ],\n        \"semantic_type\": \"\",\n        \"description\": \"\"\n      }\n    },\n    {\n      \"column\": \"Treated and Polished\",\n      \"properties\": {\n        \"dtype\": \"number\",\n        \"std\": 55.320585032482825,\n        \"min\": 15.587355273119856,\n        \"max\": 192.2728563,\n        \"num_unique_values\": 8,\n        \"samples\": [\n          147.78811718133335,\n          145.7213216,\n          75.0\n        ],\n        \"semantic_type\": \"\",\n        \"description\": \"\"\n      }\n    }\n  ]\n}"
            }
          },
          "metadata": {},
          "execution_count": 115
        }
      ]
    },
    {
      "cell_type": "markdown",
      "source": [
        "* *The \"Treated and Polished\" data has a higher average (147.79) compared to the \"Unpolished\" data (134.11).*\n",
        "\n",
        "* The \"Treated and Polished\" data set has a lower standard deviation (15.59) compared to the \"Unpolished\" data set (33.04)*\n"
      ],
      "metadata": {
        "id": "Z1ndFyt1k1k8"
      }
    },
    {
      "cell_type": "markdown",
      "source": [
        "# 3.1 Zingaro has reason to believe that the unpolished stones may not be suitable for printing. Do you think Zingaro is justified in thinking so?"
      ],
      "metadata": {
        "id": "39XoO3PNnI2U"
      }
    },
    {
      "cell_type": "markdown",
      "source": [
        "Let's write the null and alternative hypothesis\n",
        "\n",
        "* $H_0: μ >= 150$ (The mean Brinell's hardness index of unpolished stones is greater than or equal to 150)\n",
        "\n",
        "* $H_a: μ < 150$ (The mean Brinell's hardness index of unpolished stones is less than 150)"
      ],
      "metadata": {
        "id": "r7WOlBFXFuSk"
      }
    },
    {
      "cell_type": "code",
      "source": [
        "# Import the necessary function from scipy.stats\n",
        "from scipy.stats import ttest_1samp\n",
        "\n",
        "# calculate the test statistic and p-value\n",
        "test_stat, p_value = ttest_1samp(df['Unpolished '], popmean = 150, alternative='less')\n",
        "print('The test statistic is:', test_stat)\n",
        "print('The p-value is:', p_value)"
      ],
      "metadata": {
        "colab": {
          "base_uri": "https://localhost:8080/"
        },
        "id": "yFb58Lx1LNTu",
        "outputId": "a2437578-4a8c-49bd-972c-4f4456e78df7"
      },
      "execution_count": 116,
      "outputs": [
        {
          "output_type": "stream",
          "name": "stdout",
          "text": [
            "The test statistic is: -4.164629601426757\n",
            "The p-value is: 4.171286997419652e-05\n"
          ]
        }
      ]
    },
    {
      "cell_type": "markdown",
      "source": [
        "* *Since the p-value is significantly lower than the level of significance (0.05), we can reject the null hypothesis. Therefore, it is statistically justified to believe that unpolished stones may not be suitable for printing.*"
      ],
      "metadata": {
        "id": "LRtvDecKM4Ex"
      }
    },
    {
      "cell_type": "markdown",
      "source": [
        "# 3.2 Is the mean hardness of the polished and unpolished stones the same?"
      ],
      "metadata": {
        "id": "DplkxAr7PZwg"
      }
    },
    {
      "cell_type": "markdown",
      "source": [
        "Let's write the null and alternative hypothesis\n",
        "\n",
        "$H0: μ1 = μ2$ (The mean hardness of polished and unpolished stones is the same)\n",
        "\n",
        "$Ha: μ1 \\neq μ2$ (The mean hardness of polished and unpolished stones is not the same)"
      ],
      "metadata": {
        "id": "BXfZBeOYPq4w"
      }
    },
    {
      "cell_type": "code",
      "source": [
        "# importing necessary libraries to perform 2 sample t-test\n",
        "from scipy.stats import ttest_ind\n",
        "\n",
        "test_stat, p_value = ttest_ind(df['Treated and Polished'], df['Unpolished '])\n",
        "print('The test statistic is:', test_stat)\n",
        "print('The p-value is:', p_value)"
      ],
      "metadata": {
        "colab": {
          "base_uri": "https://localhost:8080/"
        },
        "id": "t4fgsIRgR1fN",
        "outputId": "fd9ec767-9bba-42cd-ce3f-7a75e2bf7eb3"
      },
      "execution_count": 117,
      "outputs": [
        {
          "output_type": "stream",
          "name": "stdout",
          "text": [
            "The test statistic is: 3.2422320501414053\n",
            "The p-value is: 0.0014655150194628353\n"
          ]
        }
      ]
    },
    {
      "cell_type": "markdown",
      "source": [
        "* *Since the p-value is less than the significance level (0.05), we reject the null hypothesis.  Therefore, there is sufficient evidence to suggest that the mean hardness of the polished and unpolished stones is not the same.*"
      ],
      "metadata": {
        "id": "AQdVkQCNSgYa"
      }
    },
    {
      "cell_type": "markdown",
      "source": [
        "# **Problem 4**\n",
        "Dental implant data: The hardness of metal implants in dental cavities depends on multiple factors, such as the method of implant, the temperature at which the metal is treated, the alloy used as well as the dentists who may favor one method above another and may work better in his/her favorite method. The response is the variable of interest."
      ],
      "metadata": {
        "id": "jC62aHSzUKfV"
      }
    },
    {
      "cell_type": "markdown",
      "source": [
        "## Loading and viewing the data set"
      ],
      "metadata": {
        "id": "oyesSnb_Ue-P"
      }
    },
    {
      "cell_type": "code",
      "source": [
        "df4 = pd.read_excel('/content/drive/MyDrive/PGP-DS/2. IS/PROJECT/Dental Hardness data.xlsx')\n",
        "df4.head()"
      ],
      "metadata": {
        "colab": {
          "base_uri": "https://localhost:8080/",
          "height": 206
        },
        "id": "5CFxMju0URhX",
        "outputId": "476438f1-ad2d-4348-8dd1-f3c4b70a0cfc"
      },
      "execution_count": 118,
      "outputs": [
        {
          "output_type": "execute_result",
          "data": {
            "text/plain": [
              "   Dentist  Method  Alloy  Temp  Response\n",
              "0        1       1      1  1500       813\n",
              "1        1       1      1  1600       792\n",
              "2        1       1      1  1700       792\n",
              "3        1       1      2  1500       907\n",
              "4        1       1      2  1600       792"
            ],
            "text/html": [
              "\n",
              "  <div id=\"df-5437032f-3ac2-460f-a8f7-ad439d5f9030\" class=\"colab-df-container\">\n",
              "    <div>\n",
              "<style scoped>\n",
              "    .dataframe tbody tr th:only-of-type {\n",
              "        vertical-align: middle;\n",
              "    }\n",
              "\n",
              "    .dataframe tbody tr th {\n",
              "        vertical-align: top;\n",
              "    }\n",
              "\n",
              "    .dataframe thead th {\n",
              "        text-align: right;\n",
              "    }\n",
              "</style>\n",
              "<table border=\"1\" class=\"dataframe\">\n",
              "  <thead>\n",
              "    <tr style=\"text-align: right;\">\n",
              "      <th></th>\n",
              "      <th>Dentist</th>\n",
              "      <th>Method</th>\n",
              "      <th>Alloy</th>\n",
              "      <th>Temp</th>\n",
              "      <th>Response</th>\n",
              "    </tr>\n",
              "  </thead>\n",
              "  <tbody>\n",
              "    <tr>\n",
              "      <th>0</th>\n",
              "      <td>1</td>\n",
              "      <td>1</td>\n",
              "      <td>1</td>\n",
              "      <td>1500</td>\n",
              "      <td>813</td>\n",
              "    </tr>\n",
              "    <tr>\n",
              "      <th>1</th>\n",
              "      <td>1</td>\n",
              "      <td>1</td>\n",
              "      <td>1</td>\n",
              "      <td>1600</td>\n",
              "      <td>792</td>\n",
              "    </tr>\n",
              "    <tr>\n",
              "      <th>2</th>\n",
              "      <td>1</td>\n",
              "      <td>1</td>\n",
              "      <td>1</td>\n",
              "      <td>1700</td>\n",
              "      <td>792</td>\n",
              "    </tr>\n",
              "    <tr>\n",
              "      <th>3</th>\n",
              "      <td>1</td>\n",
              "      <td>1</td>\n",
              "      <td>2</td>\n",
              "      <td>1500</td>\n",
              "      <td>907</td>\n",
              "    </tr>\n",
              "    <tr>\n",
              "      <th>4</th>\n",
              "      <td>1</td>\n",
              "      <td>1</td>\n",
              "      <td>2</td>\n",
              "      <td>1600</td>\n",
              "      <td>792</td>\n",
              "    </tr>\n",
              "  </tbody>\n",
              "</table>\n",
              "</div>\n",
              "    <div class=\"colab-df-buttons\">\n",
              "\n",
              "  <div class=\"colab-df-container\">\n",
              "    <button class=\"colab-df-convert\" onclick=\"convertToInteractive('df-5437032f-3ac2-460f-a8f7-ad439d5f9030')\"\n",
              "            title=\"Convert this dataframe to an interactive table.\"\n",
              "            style=\"display:none;\">\n",
              "\n",
              "  <svg xmlns=\"http://www.w3.org/2000/svg\" height=\"24px\" viewBox=\"0 -960 960 960\">\n",
              "    <path d=\"M120-120v-720h720v720H120Zm60-500h600v-160H180v160Zm220 220h160v-160H400v160Zm0 220h160v-160H400v160ZM180-400h160v-160H180v160Zm440 0h160v-160H620v160ZM180-180h160v-160H180v160Zm440 0h160v-160H620v160Z\"/>\n",
              "  </svg>\n",
              "    </button>\n",
              "\n",
              "  <style>\n",
              "    .colab-df-container {\n",
              "      display:flex;\n",
              "      gap: 12px;\n",
              "    }\n",
              "\n",
              "    .colab-df-convert {\n",
              "      background-color: #E8F0FE;\n",
              "      border: none;\n",
              "      border-radius: 50%;\n",
              "      cursor: pointer;\n",
              "      display: none;\n",
              "      fill: #1967D2;\n",
              "      height: 32px;\n",
              "      padding: 0 0 0 0;\n",
              "      width: 32px;\n",
              "    }\n",
              "\n",
              "    .colab-df-convert:hover {\n",
              "      background-color: #E2EBFA;\n",
              "      box-shadow: 0px 1px 2px rgba(60, 64, 67, 0.3), 0px 1px 3px 1px rgba(60, 64, 67, 0.15);\n",
              "      fill: #174EA6;\n",
              "    }\n",
              "\n",
              "    .colab-df-buttons div {\n",
              "      margin-bottom: 4px;\n",
              "    }\n",
              "\n",
              "    [theme=dark] .colab-df-convert {\n",
              "      background-color: #3B4455;\n",
              "      fill: #D2E3FC;\n",
              "    }\n",
              "\n",
              "    [theme=dark] .colab-df-convert:hover {\n",
              "      background-color: #434B5C;\n",
              "      box-shadow: 0px 1px 3px 1px rgba(0, 0, 0, 0.15);\n",
              "      filter: drop-shadow(0px 1px 2px rgba(0, 0, 0, 0.3));\n",
              "      fill: #FFFFFF;\n",
              "    }\n",
              "  </style>\n",
              "\n",
              "    <script>\n",
              "      const buttonEl =\n",
              "        document.querySelector('#df-5437032f-3ac2-460f-a8f7-ad439d5f9030 button.colab-df-convert');\n",
              "      buttonEl.style.display =\n",
              "        google.colab.kernel.accessAllowed ? 'block' : 'none';\n",
              "\n",
              "      async function convertToInteractive(key) {\n",
              "        const element = document.querySelector('#df-5437032f-3ac2-460f-a8f7-ad439d5f9030');\n",
              "        const dataTable =\n",
              "          await google.colab.kernel.invokeFunction('convertToInteractive',\n",
              "                                                    [key], {});\n",
              "        if (!dataTable) return;\n",
              "\n",
              "        const docLinkHtml = 'Like what you see? Visit the ' +\n",
              "          '<a target=\"_blank\" href=https://colab.research.google.com/notebooks/data_table.ipynb>data table notebook</a>'\n",
              "          + ' to learn more about interactive tables.';\n",
              "        element.innerHTML = '';\n",
              "        dataTable['output_type'] = 'display_data';\n",
              "        await google.colab.output.renderOutput(dataTable, element);\n",
              "        const docLink = document.createElement('div');\n",
              "        docLink.innerHTML = docLinkHtml;\n",
              "        element.appendChild(docLink);\n",
              "      }\n",
              "    </script>\n",
              "  </div>\n",
              "\n",
              "\n",
              "    <div id=\"df-3d90544e-927c-4226-8332-59f758d9e89a\">\n",
              "      <button class=\"colab-df-quickchart\" onclick=\"quickchart('df-3d90544e-927c-4226-8332-59f758d9e89a')\"\n",
              "                title=\"Suggest charts\"\n",
              "                style=\"display:none;\">\n",
              "\n",
              "<svg xmlns=\"http://www.w3.org/2000/svg\" height=\"24px\"viewBox=\"0 0 24 24\"\n",
              "     width=\"24px\">\n",
              "    <g>\n",
              "        <path d=\"M19 3H5c-1.1 0-2 .9-2 2v14c0 1.1.9 2 2 2h14c1.1 0 2-.9 2-2V5c0-1.1-.9-2-2-2zM9 17H7v-7h2v7zm4 0h-2V7h2v10zm4 0h-2v-4h2v4z\"/>\n",
              "    </g>\n",
              "</svg>\n",
              "      </button>\n",
              "\n",
              "<style>\n",
              "  .colab-df-quickchart {\n",
              "      --bg-color: #E8F0FE;\n",
              "      --fill-color: #1967D2;\n",
              "      --hover-bg-color: #E2EBFA;\n",
              "      --hover-fill-color: #174EA6;\n",
              "      --disabled-fill-color: #AAA;\n",
              "      --disabled-bg-color: #DDD;\n",
              "  }\n",
              "\n",
              "  [theme=dark] .colab-df-quickchart {\n",
              "      --bg-color: #3B4455;\n",
              "      --fill-color: #D2E3FC;\n",
              "      --hover-bg-color: #434B5C;\n",
              "      --hover-fill-color: #FFFFFF;\n",
              "      --disabled-bg-color: #3B4455;\n",
              "      --disabled-fill-color: #666;\n",
              "  }\n",
              "\n",
              "  .colab-df-quickchart {\n",
              "    background-color: var(--bg-color);\n",
              "    border: none;\n",
              "    border-radius: 50%;\n",
              "    cursor: pointer;\n",
              "    display: none;\n",
              "    fill: var(--fill-color);\n",
              "    height: 32px;\n",
              "    padding: 0;\n",
              "    width: 32px;\n",
              "  }\n",
              "\n",
              "  .colab-df-quickchart:hover {\n",
              "    background-color: var(--hover-bg-color);\n",
              "    box-shadow: 0 1px 2px rgba(60, 64, 67, 0.3), 0 1px 3px 1px rgba(60, 64, 67, 0.15);\n",
              "    fill: var(--button-hover-fill-color);\n",
              "  }\n",
              "\n",
              "  .colab-df-quickchart-complete:disabled,\n",
              "  .colab-df-quickchart-complete:disabled:hover {\n",
              "    background-color: var(--disabled-bg-color);\n",
              "    fill: var(--disabled-fill-color);\n",
              "    box-shadow: none;\n",
              "  }\n",
              "\n",
              "  .colab-df-spinner {\n",
              "    border: 2px solid var(--fill-color);\n",
              "    border-color: transparent;\n",
              "    border-bottom-color: var(--fill-color);\n",
              "    animation:\n",
              "      spin 1s steps(1) infinite;\n",
              "  }\n",
              "\n",
              "  @keyframes spin {\n",
              "    0% {\n",
              "      border-color: transparent;\n",
              "      border-bottom-color: var(--fill-color);\n",
              "      border-left-color: var(--fill-color);\n",
              "    }\n",
              "    20% {\n",
              "      border-color: transparent;\n",
              "      border-left-color: var(--fill-color);\n",
              "      border-top-color: var(--fill-color);\n",
              "    }\n",
              "    30% {\n",
              "      border-color: transparent;\n",
              "      border-left-color: var(--fill-color);\n",
              "      border-top-color: var(--fill-color);\n",
              "      border-right-color: var(--fill-color);\n",
              "    }\n",
              "    40% {\n",
              "      border-color: transparent;\n",
              "      border-right-color: var(--fill-color);\n",
              "      border-top-color: var(--fill-color);\n",
              "    }\n",
              "    60% {\n",
              "      border-color: transparent;\n",
              "      border-right-color: var(--fill-color);\n",
              "    }\n",
              "    80% {\n",
              "      border-color: transparent;\n",
              "      border-right-color: var(--fill-color);\n",
              "      border-bottom-color: var(--fill-color);\n",
              "    }\n",
              "    90% {\n",
              "      border-color: transparent;\n",
              "      border-bottom-color: var(--fill-color);\n",
              "    }\n",
              "  }\n",
              "</style>\n",
              "\n",
              "      <script>\n",
              "        async function quickchart(key) {\n",
              "          const quickchartButtonEl =\n",
              "            document.querySelector('#' + key + ' button');\n",
              "          quickchartButtonEl.disabled = true;  // To prevent multiple clicks.\n",
              "          quickchartButtonEl.classList.add('colab-df-spinner');\n",
              "          try {\n",
              "            const charts = await google.colab.kernel.invokeFunction(\n",
              "                'suggestCharts', [key], {});\n",
              "          } catch (error) {\n",
              "            console.error('Error during call to suggestCharts:', error);\n",
              "          }\n",
              "          quickchartButtonEl.classList.remove('colab-df-spinner');\n",
              "          quickchartButtonEl.classList.add('colab-df-quickchart-complete');\n",
              "        }\n",
              "        (() => {\n",
              "          let quickchartButtonEl =\n",
              "            document.querySelector('#df-3d90544e-927c-4226-8332-59f758d9e89a button');\n",
              "          quickchartButtonEl.style.display =\n",
              "            google.colab.kernel.accessAllowed ? 'block' : 'none';\n",
              "        })();\n",
              "      </script>\n",
              "    </div>\n",
              "\n",
              "    </div>\n",
              "  </div>\n"
            ],
            "application/vnd.google.colaboratory.intrinsic+json": {
              "type": "dataframe",
              "variable_name": "df4",
              "summary": "{\n  \"name\": \"df4\",\n  \"rows\": 90,\n  \"fields\": [\n    {\n      \"column\": \"Dentist\",\n      \"properties\": {\n        \"dtype\": \"number\",\n        \"std\": 1,\n        \"min\": 1,\n        \"max\": 5,\n        \"num_unique_values\": 5,\n        \"samples\": [\n          2,\n          5,\n          3\n        ],\n        \"semantic_type\": \"\",\n        \"description\": \"\"\n      }\n    },\n    {\n      \"column\": \"Method\",\n      \"properties\": {\n        \"dtype\": \"number\",\n        \"std\": 0,\n        \"min\": 1,\n        \"max\": 3,\n        \"num_unique_values\": 3,\n        \"samples\": [\n          1,\n          2,\n          3\n        ],\n        \"semantic_type\": \"\",\n        \"description\": \"\"\n      }\n    },\n    {\n      \"column\": \"Alloy\",\n      \"properties\": {\n        \"dtype\": \"number\",\n        \"std\": 0,\n        \"min\": 1,\n        \"max\": 2,\n        \"num_unique_values\": 2,\n        \"samples\": [\n          2,\n          1\n        ],\n        \"semantic_type\": \"\",\n        \"description\": \"\"\n      }\n    },\n    {\n      \"column\": \"Temp\",\n      \"properties\": {\n        \"dtype\": \"number\",\n        \"std\": 82,\n        \"min\": 1500,\n        \"max\": 1700,\n        \"num_unique_values\": 3,\n        \"samples\": [\n          1500,\n          1600\n        ],\n        \"semantic_type\": \"\",\n        \"description\": \"\"\n      }\n    },\n    {\n      \"column\": \"Response\",\n      \"properties\": {\n        \"dtype\": \"number\",\n        \"std\": 145,\n        \"min\": 289,\n        \"max\": 1115,\n        \"num_unique_values\": 41,\n        \"samples\": [\n          681,\n          585\n        ],\n        \"semantic_type\": \"\",\n        \"description\": \"\"\n      }\n    }\n  ]\n}"
            }
          },
          "metadata": {},
          "execution_count": 118
        }
      ]
    },
    {
      "cell_type": "code",
      "source": [
        "df4.shape\n",
        "print('The shape of the data set is:', df4.shape)"
      ],
      "metadata": {
        "colab": {
          "base_uri": "https://localhost:8080/"
        },
        "id": "jsOsEhmOolGE",
        "outputId": "9e11ee09-cb19-4bb9-9042-ccafd08378d2"
      },
      "execution_count": 119,
      "outputs": [
        {
          "output_type": "stream",
          "name": "stdout",
          "text": [
            "The shape of the data set is: (90, 5)\n"
          ]
        }
      ]
    },
    {
      "cell_type": "markdown",
      "source": [
        "* *The data set contains 90 rows and 5 columns*"
      ],
      "metadata": {
        "id": "uSbnHjt6otxG"
      }
    },
    {
      "cell_type": "code",
      "source": [
        "df4.info()"
      ],
      "metadata": {
        "colab": {
          "base_uri": "https://localhost:8080/"
        },
        "id": "9Ed_cOm5U0Hi",
        "outputId": "9e1b0f77-24a6-408f-f09b-b4784c94c9db"
      },
      "execution_count": 120,
      "outputs": [
        {
          "output_type": "stream",
          "name": "stdout",
          "text": [
            "<class 'pandas.core.frame.DataFrame'>\n",
            "RangeIndex: 90 entries, 0 to 89\n",
            "Data columns (total 5 columns):\n",
            " #   Column    Non-Null Count  Dtype\n",
            "---  ------    --------------  -----\n",
            " 0   Dentist   90 non-null     int64\n",
            " 1   Method    90 non-null     int64\n",
            " 2   Alloy     90 non-null     int64\n",
            " 3   Temp      90 non-null     int64\n",
            " 4   Response  90 non-null     int64\n",
            "dtypes: int64(5)\n",
            "memory usage: 3.6 KB\n"
          ]
        }
      ]
    },
    {
      "cell_type": "code",
      "source": [
        "df4.describe()"
      ],
      "metadata": {
        "colab": {
          "base_uri": "https://localhost:8080/",
          "height": 300
        },
        "id": "wSJsQ6Rbqddg",
        "outputId": "a428ef52-d381-4370-a956-46f9c8bf5026"
      },
      "execution_count": 121,
      "outputs": [
        {
          "output_type": "execute_result",
          "data": {
            "text/plain": [
              "         Dentist     Method      Alloy         Temp     Response\n",
              "count  90.000000  90.000000  90.000000    90.000000    90.000000\n",
              "mean    3.000000   2.000000   1.500000  1600.000000   741.777778\n",
              "std     1.422136   0.821071   0.502801    82.107083   145.767845\n",
              "min     1.000000   1.000000   1.000000  1500.000000   289.000000\n",
              "25%     2.000000   1.000000   1.000000  1500.000000   698.000000\n",
              "50%     3.000000   2.000000   1.500000  1600.000000   767.000000\n",
              "75%     4.000000   3.000000   2.000000  1700.000000   824.000000\n",
              "max     5.000000   3.000000   2.000000  1700.000000  1115.000000"
            ],
            "text/html": [
              "\n",
              "  <div id=\"df-b7b14c4e-858b-4c4c-875c-25673db0b80c\" class=\"colab-df-container\">\n",
              "    <div>\n",
              "<style scoped>\n",
              "    .dataframe tbody tr th:only-of-type {\n",
              "        vertical-align: middle;\n",
              "    }\n",
              "\n",
              "    .dataframe tbody tr th {\n",
              "        vertical-align: top;\n",
              "    }\n",
              "\n",
              "    .dataframe thead th {\n",
              "        text-align: right;\n",
              "    }\n",
              "</style>\n",
              "<table border=\"1\" class=\"dataframe\">\n",
              "  <thead>\n",
              "    <tr style=\"text-align: right;\">\n",
              "      <th></th>\n",
              "      <th>Dentist</th>\n",
              "      <th>Method</th>\n",
              "      <th>Alloy</th>\n",
              "      <th>Temp</th>\n",
              "      <th>Response</th>\n",
              "    </tr>\n",
              "  </thead>\n",
              "  <tbody>\n",
              "    <tr>\n",
              "      <th>count</th>\n",
              "      <td>90.000000</td>\n",
              "      <td>90.000000</td>\n",
              "      <td>90.000000</td>\n",
              "      <td>90.000000</td>\n",
              "      <td>90.000000</td>\n",
              "    </tr>\n",
              "    <tr>\n",
              "      <th>mean</th>\n",
              "      <td>3.000000</td>\n",
              "      <td>2.000000</td>\n",
              "      <td>1.500000</td>\n",
              "      <td>1600.000000</td>\n",
              "      <td>741.777778</td>\n",
              "    </tr>\n",
              "    <tr>\n",
              "      <th>std</th>\n",
              "      <td>1.422136</td>\n",
              "      <td>0.821071</td>\n",
              "      <td>0.502801</td>\n",
              "      <td>82.107083</td>\n",
              "      <td>145.767845</td>\n",
              "    </tr>\n",
              "    <tr>\n",
              "      <th>min</th>\n",
              "      <td>1.000000</td>\n",
              "      <td>1.000000</td>\n",
              "      <td>1.000000</td>\n",
              "      <td>1500.000000</td>\n",
              "      <td>289.000000</td>\n",
              "    </tr>\n",
              "    <tr>\n",
              "      <th>25%</th>\n",
              "      <td>2.000000</td>\n",
              "      <td>1.000000</td>\n",
              "      <td>1.000000</td>\n",
              "      <td>1500.000000</td>\n",
              "      <td>698.000000</td>\n",
              "    </tr>\n",
              "    <tr>\n",
              "      <th>50%</th>\n",
              "      <td>3.000000</td>\n",
              "      <td>2.000000</td>\n",
              "      <td>1.500000</td>\n",
              "      <td>1600.000000</td>\n",
              "      <td>767.000000</td>\n",
              "    </tr>\n",
              "    <tr>\n",
              "      <th>75%</th>\n",
              "      <td>4.000000</td>\n",
              "      <td>3.000000</td>\n",
              "      <td>2.000000</td>\n",
              "      <td>1700.000000</td>\n",
              "      <td>824.000000</td>\n",
              "    </tr>\n",
              "    <tr>\n",
              "      <th>max</th>\n",
              "      <td>5.000000</td>\n",
              "      <td>3.000000</td>\n",
              "      <td>2.000000</td>\n",
              "      <td>1700.000000</td>\n",
              "      <td>1115.000000</td>\n",
              "    </tr>\n",
              "  </tbody>\n",
              "</table>\n",
              "</div>\n",
              "    <div class=\"colab-df-buttons\">\n",
              "\n",
              "  <div class=\"colab-df-container\">\n",
              "    <button class=\"colab-df-convert\" onclick=\"convertToInteractive('df-b7b14c4e-858b-4c4c-875c-25673db0b80c')\"\n",
              "            title=\"Convert this dataframe to an interactive table.\"\n",
              "            style=\"display:none;\">\n",
              "\n",
              "  <svg xmlns=\"http://www.w3.org/2000/svg\" height=\"24px\" viewBox=\"0 -960 960 960\">\n",
              "    <path d=\"M120-120v-720h720v720H120Zm60-500h600v-160H180v160Zm220 220h160v-160H400v160Zm0 220h160v-160H400v160ZM180-400h160v-160H180v160Zm440 0h160v-160H620v160ZM180-180h160v-160H180v160Zm440 0h160v-160H620v160Z\"/>\n",
              "  </svg>\n",
              "    </button>\n",
              "\n",
              "  <style>\n",
              "    .colab-df-container {\n",
              "      display:flex;\n",
              "      gap: 12px;\n",
              "    }\n",
              "\n",
              "    .colab-df-convert {\n",
              "      background-color: #E8F0FE;\n",
              "      border: none;\n",
              "      border-radius: 50%;\n",
              "      cursor: pointer;\n",
              "      display: none;\n",
              "      fill: #1967D2;\n",
              "      height: 32px;\n",
              "      padding: 0 0 0 0;\n",
              "      width: 32px;\n",
              "    }\n",
              "\n",
              "    .colab-df-convert:hover {\n",
              "      background-color: #E2EBFA;\n",
              "      box-shadow: 0px 1px 2px rgba(60, 64, 67, 0.3), 0px 1px 3px 1px rgba(60, 64, 67, 0.15);\n",
              "      fill: #174EA6;\n",
              "    }\n",
              "\n",
              "    .colab-df-buttons div {\n",
              "      margin-bottom: 4px;\n",
              "    }\n",
              "\n",
              "    [theme=dark] .colab-df-convert {\n",
              "      background-color: #3B4455;\n",
              "      fill: #D2E3FC;\n",
              "    }\n",
              "\n",
              "    [theme=dark] .colab-df-convert:hover {\n",
              "      background-color: #434B5C;\n",
              "      box-shadow: 0px 1px 3px 1px rgba(0, 0, 0, 0.15);\n",
              "      filter: drop-shadow(0px 1px 2px rgba(0, 0, 0, 0.3));\n",
              "      fill: #FFFFFF;\n",
              "    }\n",
              "  </style>\n",
              "\n",
              "    <script>\n",
              "      const buttonEl =\n",
              "        document.querySelector('#df-b7b14c4e-858b-4c4c-875c-25673db0b80c button.colab-df-convert');\n",
              "      buttonEl.style.display =\n",
              "        google.colab.kernel.accessAllowed ? 'block' : 'none';\n",
              "\n",
              "      async function convertToInteractive(key) {\n",
              "        const element = document.querySelector('#df-b7b14c4e-858b-4c4c-875c-25673db0b80c');\n",
              "        const dataTable =\n",
              "          await google.colab.kernel.invokeFunction('convertToInteractive',\n",
              "                                                    [key], {});\n",
              "        if (!dataTable) return;\n",
              "\n",
              "        const docLinkHtml = 'Like what you see? Visit the ' +\n",
              "          '<a target=\"_blank\" href=https://colab.research.google.com/notebooks/data_table.ipynb>data table notebook</a>'\n",
              "          + ' to learn more about interactive tables.';\n",
              "        element.innerHTML = '';\n",
              "        dataTable['output_type'] = 'display_data';\n",
              "        await google.colab.output.renderOutput(dataTable, element);\n",
              "        const docLink = document.createElement('div');\n",
              "        docLink.innerHTML = docLinkHtml;\n",
              "        element.appendChild(docLink);\n",
              "      }\n",
              "    </script>\n",
              "  </div>\n",
              "\n",
              "\n",
              "    <div id=\"df-a9a01cea-eb80-4135-aa79-186a0279a7ae\">\n",
              "      <button class=\"colab-df-quickchart\" onclick=\"quickchart('df-a9a01cea-eb80-4135-aa79-186a0279a7ae')\"\n",
              "                title=\"Suggest charts\"\n",
              "                style=\"display:none;\">\n",
              "\n",
              "<svg xmlns=\"http://www.w3.org/2000/svg\" height=\"24px\"viewBox=\"0 0 24 24\"\n",
              "     width=\"24px\">\n",
              "    <g>\n",
              "        <path d=\"M19 3H5c-1.1 0-2 .9-2 2v14c0 1.1.9 2 2 2h14c1.1 0 2-.9 2-2V5c0-1.1-.9-2-2-2zM9 17H7v-7h2v7zm4 0h-2V7h2v10zm4 0h-2v-4h2v4z\"/>\n",
              "    </g>\n",
              "</svg>\n",
              "      </button>\n",
              "\n",
              "<style>\n",
              "  .colab-df-quickchart {\n",
              "      --bg-color: #E8F0FE;\n",
              "      --fill-color: #1967D2;\n",
              "      --hover-bg-color: #E2EBFA;\n",
              "      --hover-fill-color: #174EA6;\n",
              "      --disabled-fill-color: #AAA;\n",
              "      --disabled-bg-color: #DDD;\n",
              "  }\n",
              "\n",
              "  [theme=dark] .colab-df-quickchart {\n",
              "      --bg-color: #3B4455;\n",
              "      --fill-color: #D2E3FC;\n",
              "      --hover-bg-color: #434B5C;\n",
              "      --hover-fill-color: #FFFFFF;\n",
              "      --disabled-bg-color: #3B4455;\n",
              "      --disabled-fill-color: #666;\n",
              "  }\n",
              "\n",
              "  .colab-df-quickchart {\n",
              "    background-color: var(--bg-color);\n",
              "    border: none;\n",
              "    border-radius: 50%;\n",
              "    cursor: pointer;\n",
              "    display: none;\n",
              "    fill: var(--fill-color);\n",
              "    height: 32px;\n",
              "    padding: 0;\n",
              "    width: 32px;\n",
              "  }\n",
              "\n",
              "  .colab-df-quickchart:hover {\n",
              "    background-color: var(--hover-bg-color);\n",
              "    box-shadow: 0 1px 2px rgba(60, 64, 67, 0.3), 0 1px 3px 1px rgba(60, 64, 67, 0.15);\n",
              "    fill: var(--button-hover-fill-color);\n",
              "  }\n",
              "\n",
              "  .colab-df-quickchart-complete:disabled,\n",
              "  .colab-df-quickchart-complete:disabled:hover {\n",
              "    background-color: var(--disabled-bg-color);\n",
              "    fill: var(--disabled-fill-color);\n",
              "    box-shadow: none;\n",
              "  }\n",
              "\n",
              "  .colab-df-spinner {\n",
              "    border: 2px solid var(--fill-color);\n",
              "    border-color: transparent;\n",
              "    border-bottom-color: var(--fill-color);\n",
              "    animation:\n",
              "      spin 1s steps(1) infinite;\n",
              "  }\n",
              "\n",
              "  @keyframes spin {\n",
              "    0% {\n",
              "      border-color: transparent;\n",
              "      border-bottom-color: var(--fill-color);\n",
              "      border-left-color: var(--fill-color);\n",
              "    }\n",
              "    20% {\n",
              "      border-color: transparent;\n",
              "      border-left-color: var(--fill-color);\n",
              "      border-top-color: var(--fill-color);\n",
              "    }\n",
              "    30% {\n",
              "      border-color: transparent;\n",
              "      border-left-color: var(--fill-color);\n",
              "      border-top-color: var(--fill-color);\n",
              "      border-right-color: var(--fill-color);\n",
              "    }\n",
              "    40% {\n",
              "      border-color: transparent;\n",
              "      border-right-color: var(--fill-color);\n",
              "      border-top-color: var(--fill-color);\n",
              "    }\n",
              "    60% {\n",
              "      border-color: transparent;\n",
              "      border-right-color: var(--fill-color);\n",
              "    }\n",
              "    80% {\n",
              "      border-color: transparent;\n",
              "      border-right-color: var(--fill-color);\n",
              "      border-bottom-color: var(--fill-color);\n",
              "    }\n",
              "    90% {\n",
              "      border-color: transparent;\n",
              "      border-bottom-color: var(--fill-color);\n",
              "    }\n",
              "  }\n",
              "</style>\n",
              "\n",
              "      <script>\n",
              "        async function quickchart(key) {\n",
              "          const quickchartButtonEl =\n",
              "            document.querySelector('#' + key + ' button');\n",
              "          quickchartButtonEl.disabled = true;  // To prevent multiple clicks.\n",
              "          quickchartButtonEl.classList.add('colab-df-spinner');\n",
              "          try {\n",
              "            const charts = await google.colab.kernel.invokeFunction(\n",
              "                'suggestCharts', [key], {});\n",
              "          } catch (error) {\n",
              "            console.error('Error during call to suggestCharts:', error);\n",
              "          }\n",
              "          quickchartButtonEl.classList.remove('colab-df-spinner');\n",
              "          quickchartButtonEl.classList.add('colab-df-quickchart-complete');\n",
              "        }\n",
              "        (() => {\n",
              "          let quickchartButtonEl =\n",
              "            document.querySelector('#df-a9a01cea-eb80-4135-aa79-186a0279a7ae button');\n",
              "          quickchartButtonEl.style.display =\n",
              "            google.colab.kernel.accessAllowed ? 'block' : 'none';\n",
              "        })();\n",
              "      </script>\n",
              "    </div>\n",
              "\n",
              "    </div>\n",
              "  </div>\n"
            ],
            "application/vnd.google.colaboratory.intrinsic+json": {
              "type": "dataframe",
              "summary": "{\n  \"name\": \"df4\",\n  \"rows\": 8,\n  \"fields\": [\n    {\n      \"column\": \"Dentist\",\n      \"properties\": {\n        \"dtype\": \"number\",\n        \"std\": 30.866930941906585,\n        \"min\": 1.0,\n        \"max\": 90.0,\n        \"num_unique_values\": 7,\n        \"samples\": [\n          90.0,\n          3.0,\n          4.0\n        ],\n        \"semantic_type\": \"\",\n        \"description\": \"\"\n      }\n    },\n    {\n      \"column\": \"Method\",\n      \"properties\": {\n        \"dtype\": \"number\",\n        \"std\": 31.184136492649642,\n        \"min\": 0.82107082725596,\n        \"max\": 90.0,\n        \"num_unique_values\": 5,\n        \"samples\": [\n          2.0,\n          3.0,\n          0.82107082725596\n        ],\n        \"semantic_type\": \"\",\n        \"description\": \"\"\n      }\n    },\n    {\n      \"column\": \"Alloy\",\n      \"properties\": {\n        \"dtype\": \"number\",\n        \"std\": 31.344062731450258,\n        \"min\": 0.5028011423654932,\n        \"max\": 90.0,\n        \"num_unique_values\": 5,\n        \"samples\": [\n          1.5,\n          2.0,\n          0.5028011423654932\n        ],\n        \"semantic_type\": \"\",\n        \"description\": \"\"\n      }\n    },\n    {\n      \"column\": \"Temp\",\n      \"properties\": {\n        \"dtype\": \"number\",\n        \"std\": 704.8892484944748,\n        \"min\": 82.107082725596,\n        \"max\": 1700.0,\n        \"num_unique_values\": 5,\n        \"samples\": [\n          1600.0,\n          1700.0,\n          82.107082725596\n        ],\n        \"semantic_type\": \"\",\n        \"description\": \"\"\n      }\n    },\n    {\n      \"column\": \"Response\",\n      \"properties\": {\n        \"dtype\": \"number\",\n        \"std\": 365.28814151785343,\n        \"min\": 90.0,\n        \"max\": 1115.0,\n        \"num_unique_values\": 8,\n        \"samples\": [\n          741.7777777777778,\n          767.0,\n          90.0\n        ],\n        \"semantic_type\": \"\",\n        \"description\": \"\"\n      }\n    }\n  ]\n}"
            }
          },
          "metadata": {},
          "execution_count": 121
        }
      ]
    },
    {
      "cell_type": "markdown",
      "source": [
        " ## 4.1 How does the hardness of implants vary depending on dentists?"
      ],
      "metadata": {
        "id": "QO4wUR2xpijM"
      }
    },
    {
      "cell_type": "code",
      "source": [
        "# subset the data for Alloy 1 and Alloy 2\n",
        "alloy1_data = df4[df4['Alloy'] == 1]\n",
        "alloy2_data = df4[df4['Alloy'] == 2]"
      ],
      "metadata": {
        "id": "_Ip5-l53IuRL"
      },
      "execution_count": 122,
      "outputs": []
    },
    {
      "cell_type": "markdown",
      "source": [
        "## Setting up the hypothesis\n",
        "**For Alloy 1** **and**  **Alloy 2**\n",
        "\n",
        "\n",
        "$H_0$ = The hardness of implants is the same across all the dentists\n",
        "\n",
        "$H_a$ = The hardness of implants is different between any two dentists\n",
        "\n",
        "\n"
      ],
      "metadata": {
        "id": "DqZQBozBMLPJ"
      }
    },
    {
      "cell_type": "markdown",
      "source": [
        "## Checking the assumptions of hypothesis test\n"
      ],
      "metadata": {
        "id": "rr4BbUn9Qy_S"
      }
    },
    {
      "cell_type": "markdown",
      "source": [
        "### Shapiro-Wilk’s test"
      ],
      "metadata": {
        "id": "WGgHvrVL0kLa"
      }
    },
    {
      "cell_type": "code",
      "source": [
        "# finding the p-value\n",
        "stat, p = stats.shapiro(alloy1_data['Method'])\n",
        "print('The shapiro wilk test p-value for alloy1_data is:', p)\n",
        "\n",
        "stat, p = stats.shapiro(alloy2_data['Method'])\n",
        "print('The shapiro wilk test p-value for alloy2_data is:', p)\n"
      ],
      "metadata": {
        "colab": {
          "base_uri": "https://localhost:8080/"
        },
        "id": "rhqJRgsmLNFn",
        "outputId": "a8dd5cc7-daeb-4594-d1ad-f13d2aceb628"
      },
      "execution_count": 187,
      "outputs": [
        {
          "output_type": "stream",
          "name": "stdout",
          "text": [
            "The shapiro wilk test p-value for alloy1_data is: 1.7407600654110702e-06\n",
            "The shapiro wilk test p-value for alloy2_data is: 1.7407600654110702e-06\n"
          ]
        }
      ]
    },
    {
      "cell_type": "markdown",
      "source": [
        "* *Since the p-value of the alloy1 and alloy2 data is less than 0.05, we fail to reject the null hypothesis that the response doesn't follows the normal distribution.*"
      ],
      "metadata": {
        "id": "SA6O1skLCoe0"
      }
    },
    {
      "cell_type": "markdown",
      "source": [
        "### Levene’s test"
      ],
      "metadata": {
        "id": "JsVNZVuWYjST"
      }
    },
    {
      "cell_type": "code",
      "source": [
        "#finding p value for alloy 1\n",
        "stat, p = stats.levene(\n",
        "    alloy1_data[alloy1_data['Method']== 1]['Response'],\n",
        "    alloy1_data[alloy1_data['Method']== 2]['Response'],\n",
        "    alloy1_data[alloy1_data['Method']== 3]['Response']\n",
        ")\n",
        "print('The Levenes test p-value for alloy1_data is:', p)\n",
        "\n",
        "#finding p value for alloy 2\n",
        "stat, p = stats.levene(\n",
        "    alloy2_data[alloy2_data['Method']== 1]['Response'],\n",
        "    alloy2_data[alloy2_data['Method']== 2]['Response'],\n",
        "    alloy2_data[alloy2_data['Method']== 3]['Response']\n",
        ")\n",
        "print('TheLevenes test p-value for alloy_data is:', p)"
      ],
      "metadata": {
        "colab": {
          "base_uri": "https://localhost:8080/"
        },
        "id": "MTIR16DNXuo_",
        "outputId": "50002fef-edc5-4f3b-a968-6c2996b89e67"
      },
      "execution_count": 190,
      "outputs": [
        {
          "output_type": "stream",
          "name": "stdout",
          "text": [
            "The Levenes test p-value for alloy1_data is: 0.0034160381460233966\n",
            "TheLevenes test p-value for alloy_data is: 0.044692699391586675\n"
          ]
        }
      ]
    },
    {
      "cell_type": "markdown",
      "source": [
        "* *Since the p-values of both the alloys are less than 0.05,we can conclude that the population variances are not equal.*\n",
        "\n",
        "* *Even though assumptions of both the tests got fail we are proceeding with Anova test.*"
      ],
      "metadata": {
        "id": "5Rt3KC3zHUE7"
      }
    },
    {
      "cell_type": "markdown",
      "source": [
        "## Performing ANOVA-TEST"
      ],
      "metadata": {
        "id": "TWqHNVTN057v"
      }
    },
    {
      "cell_type": "code",
      "source": [
        "# Importing necessary functions\n",
        "import statsmodels.api as sm\n",
        "from statsmodels.formula.api import ols"
      ],
      "metadata": {
        "id": "8PJqRIjNghdj"
      },
      "execution_count": 191,
      "outputs": []
    },
    {
      "cell_type": "code",
      "source": [
        "#Performing an ANOVA test on data frame.\n",
        "formula = 'Response ~ C(Dentist)'\n",
        "model = ols(formula, df4).fit()\n",
        "anova_table = sm.stats.anova_lm(model)\n",
        "print(anova_table)"
      ],
      "metadata": {
        "colab": {
          "base_uri": "https://localhost:8080/"
        },
        "id": "zS7J3ImKYrcs",
        "outputId": "610c0a64-3d8a-443a-8938-f8519a613147"
      },
      "execution_count": 126,
      "outputs": [
        {
          "output_type": "stream",
          "name": "stdout",
          "text": [
            "              df        sum_sq       mean_sq         F    PR(>F)\n",
            "C(Dentist)   4.0  1.577946e+05  39448.638889  1.934537  0.112066\n",
            "Residual    85.0  1.733301e+06  20391.776471       NaN       NaN\n"
          ]
        }
      ]
    },
    {
      "cell_type": "code",
      "source": [
        "#Performing an ANOVA test on alloy1_data.\n",
        "formula = 'Response ~ C(Dentist)'\n",
        "model = ols(formula, alloy1_data).fit()\n",
        "anova_table = sm.stats.anova_lm(model)\n",
        "print(anova_table)"
      ],
      "metadata": {
        "colab": {
          "base_uri": "https://localhost:8080/"
        },
        "id": "IL6IKUnQdvMX",
        "outputId": "5a7ece8b-5a77-4c11-a93e-3c4f2026fe3a"
      },
      "execution_count": 127,
      "outputs": [
        {
          "output_type": "stream",
          "name": "stdout",
          "text": [
            "              df         sum_sq       mean_sq         F    PR(>F)\n",
            "C(Dentist)   4.0  106683.688889  26670.922222  1.977112  0.116567\n",
            "Residual    40.0  539593.555556  13489.838889       NaN       NaN\n"
          ]
        }
      ]
    },
    {
      "cell_type": "code",
      "source": [
        "# Performing an ANOVA test on alloy2_data.\n",
        "formula = 'Response ~ C(Dentist)'\n",
        "model = ols(formula, alloy2_data).fit()\n",
        "anova_table = sm.stats.anova_lm(model)\n",
        "print(anova_table)"
      ],
      "metadata": {
        "colab": {
          "base_uri": "https://localhost:8080/"
        },
        "id": "Z78pm7iHdyd1",
        "outputId": "f92f6722-bc81-4a66-c950-39c0be0f0b42"
      },
      "execution_count": 128,
      "outputs": [
        {
          "output_type": "stream",
          "name": "stdout",
          "text": [
            "              df        sum_sq       mean_sq         F    PR(>F)\n",
            "C(Dentist)   4.0  5.679791e+04  14199.477778  0.524835  0.718031\n",
            "Residual    40.0  1.082205e+06  27055.122222       NaN       NaN\n"
          ]
        }
      ]
    },
    {
      "cell_type": "markdown",
      "source": [
        "## Insights:\n",
        "\n",
        "* *According to the ANOVA test for both alloys, the p-value is greater than 0.05. Therefore, we fail to reject the null hypothesis in both cases.*\n",
        "\n",
        "* *This means we can conclude that the hardness of implants is the same across all Dentists.*"
      ],
      "metadata": {
        "id": "aQFiyqp3qFt2"
      }
    },
    {
      "cell_type": "markdown",
      "source": [
        "# 4.2 How does the hardness of implants vary depending on methods?"
      ],
      "metadata": {
        "id": "I0nTE8ZquI9s"
      }
    },
    {
      "cell_type": "markdown",
      "source": [
        "## Setting up the Hypothesis"
      ],
      "metadata": {
        "id": "aq6tfH9bvbr-"
      }
    },
    {
      "cell_type": "markdown",
      "source": [
        "For alloy1 and alloy2\n",
        "\n",
        "$H_0$ = The hardness of implants is same across all the methods\n",
        "\n",
        "$H_a$ = The hardness of implants is different between any two of the methods"
      ],
      "metadata": {
        "id": "ZzbW95ZMv1GW"
      }
    },
    {
      "cell_type": "code",
      "source": [
        "# Even though assumptions of both the tests got fail we are proceeding with Anova test.\n",
        "\n",
        "#Performing ANOVA Test on data frame\n",
        "formula = 'Response ~ C(Method)'\n",
        "model = ols(formula, df4).fit()\n",
        "anova_table = sm.stats.anova_lm(model)\n",
        "print(anova_table)"
      ],
      "metadata": {
        "colab": {
          "base_uri": "https://localhost:8080/"
        },
        "id": "DjPqN-TOwxLq",
        "outputId": "c4360f6d-bb86-444a-aff4-5a75a8c51a06"
      },
      "execution_count": 129,
      "outputs": [
        {
          "output_type": "stream",
          "name": "stdout",
          "text": [
            "             df        sum_sq        mean_sq         F        PR(>F)\n",
            "C(Method)   2.0  5.934275e+05  296713.744444  19.89268  7.683892e-08\n",
            "Residual   87.0  1.297668e+06   14915.724904       NaN           NaN\n"
          ]
        }
      ]
    },
    {
      "cell_type": "code",
      "source": [
        "#Performing an ANOVA test on alloy1_data.\n",
        "formula = 'Response ~ C(Method)'\n",
        "model = ols(formula, alloy1_data).fit()\n",
        "anova_table = sm.stats.anova_lm(model)\n",
        "print(anova_table)"
      ],
      "metadata": {
        "colab": {
          "base_uri": "https://localhost:8080/"
        },
        "id": "k_3dV87Uy2nG",
        "outputId": "4d8134b1-3037-42a1-ee26-59116562c6c9"
      },
      "execution_count": 130,
      "outputs": [
        {
          "output_type": "stream",
          "name": "stdout",
          "text": [
            "             df         sum_sq       mean_sq         F    PR(>F)\n",
            "C(Method)   2.0  148472.177778  74236.088889  6.263327  0.004163\n",
            "Residual   42.0  497805.066667  11852.501587       NaN       NaN\n"
          ]
        }
      ]
    },
    {
      "cell_type": "code",
      "source": [
        "#Performing an ANOVA test on alloy2_data.\n",
        "formula = 'Response ~ C(Method)'\n",
        "model = ols(formula, alloy2_data).fit()\n",
        "anova_table = sm.stats.anova_lm(model)\n",
        "print(anova_table)"
      ],
      "metadata": {
        "colab": {
          "base_uri": "https://localhost:8080/"
        },
        "id": "_hotaYB9y860",
        "outputId": "56c2eaf7-3c6c-4a47-a62f-f2050731a9be"
      },
      "execution_count": 131,
      "outputs": [
        {
          "output_type": "stream",
          "name": "stdout",
          "text": [
            "             df    sum_sq        mean_sq        F    PR(>F)\n",
            "C(Method)   2.0  499640.4  249820.200000  16.4108  0.000005\n",
            "Residual   42.0  639362.4   15222.914286      NaN       NaN\n"
          ]
        }
      ]
    },
    {
      "cell_type": "markdown",
      "source": [
        "## **Insights:**\n",
        "\n",
        "* *According to the ANOVA test for both alloys, the p-value is less than 0.05. Therefore, we reject the null hypothesis.*\n",
        "* *This means we can conclude that the hardness is different between any two of the methods.*"
      ],
      "metadata": {
        "id": "DR9mZqYwx5D9"
      }
    },
    {
      "cell_type": "markdown",
      "source": [
        "## Conducting Multiple Comparison test (Tukey HSD)\n",
        ""
      ],
      "metadata": {
        "id": "eQoKHAIQ-WTZ"
      }
    },
    {
      "cell_type": "code",
      "source": [
        "# To identify which of the pair of methods the hardness of implants differs\n",
        "\n",
        "#import the required function\n",
        "from statsmodels.stats.multicomp import pairwise_tukeyhsd\n",
        "\n",
        "m_comp = pairwise_tukeyhsd(endog=df4['Response'],groups=df4['Method'],alpha=0.05)\n",
        "print(m_comp)"
      ],
      "metadata": {
        "colab": {
          "base_uri": "https://localhost:8080/"
        },
        "id": "TW7zW_Dt37Zb",
        "outputId": "06fe6c0f-da30-4c6b-b043-cad8f3172577"
      },
      "execution_count": 168,
      "outputs": [
        {
          "output_type": "stream",
          "name": "stdout",
          "text": [
            "   Multiple Comparison of Means - Tukey HSD, FWER=0.05   \n",
            "=========================================================\n",
            "group1 group2  meandiff p-adj    lower     upper   reject\n",
            "---------------------------------------------------------\n",
            "     1      2   10.4333 0.9415  -64.7584   85.6251  False\n",
            "     1      3    -166.8    0.0 -241.9917  -91.6083   True\n",
            "     2      3 -177.2333    0.0 -252.4251 -102.0416   True\n",
            "---------------------------------------------------------\n"
          ]
        }
      ]
    },
    {
      "cell_type": "markdown",
      "source": [
        "## **Insights**\n",
        "\n",
        "Pairs where hardness differs significantly i.e; (reject = True)\n",
        "\n",
        "Method 1 vs Method 3\n",
        "\n",
        "Method 2 vs Method 3\n",
        "\n",
        "These pairs show a statistically significant difference in implant hardness."
      ],
      "metadata": {
        "id": "zMENqYYYNXE-"
      }
    },
    {
      "cell_type": "markdown",
      "source": [
        "# 4.3 What is the interaction effect between the dentist and method on the hardness of dental implants for each type of alloy?"
      ],
      "metadata": {
        "id": "8XNIPM4e0YeL"
      }
    },
    {
      "cell_type": "code",
      "source": [
        "# Creating interaction plot\n",
        "plt.figure(figsize=(8,6))\n",
        "sns.pointplot(data= df4, x='Dentist', y='Response', hue='Method')\n",
        "plt.title('Interaction plot for actual data')\n",
        "plt.xlabel('Dentist')\n",
        "plt.ylabel('Response')\n",
        "plt.show()"
      ],
      "metadata": {
        "colab": {
          "base_uri": "https://localhost:8080/",
          "height": 564
        },
        "id": "omnGH06ezMpz",
        "outputId": "30a8d295-0948-40ff-ce9c-4b6958c4964c"
      },
      "execution_count": 161,
      "outputs": [
        {
          "output_type": "display_data",
          "data": {
            "text/plain": [
              "<Figure size 800x600 with 1 Axes>"
            ],
            "image/png": "[encoded data removed]"
          },
          "metadata": {}
        }
      ]
    },
    {
      "cell_type": "code",
      "source": [
        "# creating interaction plot on alloy1_data\n",
        "plt.figure(figsize=(8,6))\n",
        "sns.pointplot(data= alloy1_data, x='Dentist', y='Response', hue='Method')\n",
        "plt.title('Interaction plot for Alloy 1 data')\n",
        "plt.xlabel('Dentist')\n",
        "plt.ylabel('Response')\n",
        "plt.show()"
      ],
      "metadata": {
        "colab": {
          "base_uri": "https://localhost:8080/",
          "height": 564
        },
        "id": "TLd3mT_-TWk3",
        "outputId": "719c5eb7-6356-4c8f-984c-aa72d76ec51e"
      },
      "execution_count": 160,
      "outputs": [
        {
          "output_type": "display_data",
          "data": {
            "text/plain": [
              "<Figure size 800x600 with 1 Axes>"
            ],
            "image/png": "[encoded data removed]"
          },
          "metadata": {}
        }
      ]
    },
    {
      "cell_type": "code",
      "source": [
        "# creating interaction plot on alloy2_data\n",
        "plt.figure(figsize=(8,6))\n",
        "sns.pointplot(data= alloy2_data, x='Dentist', y='Response', hue='Method')\n",
        "plt.title('Interaction plot for Alloy 2 data')\n",
        "plt.xlabel('Dentist')\n",
        "plt.ylabel('Response')\n",
        "plt.legend()\n",
        "plt.show()"
      ],
      "metadata": {
        "colab": {
          "base_uri": "https://localhost:8080/",
          "height": 564
        },
        "id": "uDWOCuypVAZM",
        "outputId": "e9bff096-1cd9-4515-90c3-f3deb0487031"
      },
      "execution_count": 158,
      "outputs": [
        {
          "output_type": "display_data",
          "data": {
            "text/plain": [
              "<Figure size 800x600 with 1 Axes>"
            ],
            "image/png": "[encoded data removed]"
          },
          "metadata": {}
        }
      ]
    },
    {
      "cell_type": "markdown",
      "source": [
        "## Key insights from the Interaction plots\n",
        "\n",
        "* *Methods 1 and 2 show stable performance across dentists, with only slight variation.*\n",
        "\n",
        "* *Method 3 shows a steep decline in hardness from Dentist 3 to Dentist 5, which is not observed in Methods 1 and 2.*\n",
        "\n",
        "* *This suggests that Method 3's performance is highly dependent on the dentist, implying a strong interaction effect.*\n",
        "\n"
      ],
      "metadata": {
        "id": "hPqrC_l5lv10"
      }
    },
    {
      "cell_type": "markdown",
      "source": [
        "# 4.4 How does the hardness of implants vary depending on dentists and methods together?"
      ],
      "metadata": {
        "id": "e8Zk1fkAtF7u"
      }
    },
    {
      "cell_type": "markdown",
      "source": [
        "## Setting up the Hypothesis\n",
        "$H_0$ = *There is no interaction effect between dentist and method on the hardness of implants.*\n",
        "\n",
        "$H_a$ = *There is an interaction effect between dentist and method on the hardness of implants.*"
      ],
      "metadata": {
        "id": "9JxW10E1wZHu"
      }
    },
    {
      "cell_type": "code",
      "source": [
        "# Performing ANOVA Test on data\n",
        "formula = 'Response ~ C(Dentist) + C(Method) + C(Dentist):C(Method)'\n",
        "model = ols(formula, df4).fit()\n",
        "anova_table = sm.stats.anova_lm(model)\n",
        "print(anova_table)"
      ],
      "metadata": {
        "colab": {
          "base_uri": "https://localhost:8080/"
        },
        "id": "DV-r-p91wYbF",
        "outputId": "14f5be7c-4576-41c3-df0b-77d13664df38"
      },
      "execution_count": 162,
      "outputs": [
        {
          "output_type": "stream",
          "name": "stdout",
          "text": [
            "                        df         sum_sq        mean_sq          F  \\\n",
            "C(Dentist)             4.0  157794.555556   39448.638889   3.550086   \n",
            "C(Method)              2.0  593427.488889  296713.744444  26.702047   \n",
            "C(Dentist):C(Method)   8.0  306471.844444   38308.980556   3.447526   \n",
            "Residual              75.0  833401.666667   11112.022222        NaN   \n",
            "\n",
            "                            PR(>F)  \n",
            "C(Dentist)            1.045384e-02  \n",
            "C(Method)             1.750208e-09  \n",
            "C(Dentist):C(Method)  1.969515e-03  \n",
            "Residual                       NaN  \n"
          ]
        }
      ]
    },
    {
      "cell_type": "code",
      "source": [
        "# Performing Anova Test on alloy1_data\n",
        "formula = 'Response ~ C(Dentist) + C(Method) + C(Dentist):C(Method)'\n",
        "model = ols(formula, alloy1_data).fit()\n",
        "anova_table = sm.stats.anova_lm(model)\n",
        "print(anova_table)"
      ],
      "metadata": {
        "colab": {
          "base_uri": "https://localhost:8080/"
        },
        "id": "SFeZ0G-cxBc5",
        "outputId": "6d55ea63-e61e-4181-95ab-d111141737d8"
      },
      "execution_count": 163,
      "outputs": [
        {
          "output_type": "stream",
          "name": "stdout",
          "text": [
            "                        df         sum_sq       mean_sq          F    PR(>F)\n",
            "C(Dentist)             4.0  106683.688889  26670.922222   3.899638  0.011484\n",
            "C(Method)              2.0  148472.177778  74236.088889  10.854287  0.000284\n",
            "C(Dentist):C(Method)   8.0  185941.377778  23242.672222   3.398383  0.006793\n",
            "Residual              30.0  205180.000000   6839.333333        NaN       NaN\n"
          ]
        }
      ]
    },
    {
      "cell_type": "code",
      "source": [
        "#Performing an ANOVA test on alloy2_data to check interaction between Dentist and Method\n",
        "formula = 'Response ~ C(Dentist) + C(Method) + C(Dentist):C(Method)'\n",
        "model = ols(formula, alloy2_data).fit()\n",
        "anova_table = sm.stats.anova_lm(model)\n",
        "print(anova_table)"
      ],
      "metadata": {
        "colab": {
          "base_uri": "https://localhost:8080/"
        },
        "id": "2dv1VzNrxXuj",
        "outputId": "52972015-cb34-41fb-b4d2-a91ff13c9a47"
      },
      "execution_count": 166,
      "outputs": [
        {
          "output_type": "stream",
          "name": "stdout",
          "text": [
            "                        df         sum_sq        mean_sq          F    PR(>F)\n",
            "C(Dentist)             4.0   56797.911111   14199.477778   1.106152  0.371833\n",
            "C(Method)              2.0  499640.400000  249820.200000  19.461218  0.000004\n",
            "C(Dentist):C(Method)   8.0  197459.822222   24682.477778   1.922787  0.093234\n",
            "Residual              30.0  385104.666667   12836.822222        NaN       NaN\n"
          ]
        }
      ]
    },
    {
      "cell_type": "markdown",
      "source": [
        "## Insights\n",
        "\n",
        "* *For all alloys, the p-value for the interaction term (C(Dentist):C(Method)) is less than 0.05. Therefore, we reject the null hypothesis.*\n",
        "\n",
        "* *This means that there is a significant interaction effect between the dentist and the method on the hardness of the implants.*\n",
        "\n",
        "* *The way the hardness varies depending on the method is different for different dentists.*"
      ],
      "metadata": {
        "id": "fbrfwa6T2l6R"
      }
    },
    {
      "cell_type": "code",
      "source": [],
      "metadata": {
        "id": "4MOumlsCxQtE"
      },
      "execution_count": null,
      "outputs": []
    }
  ]
}